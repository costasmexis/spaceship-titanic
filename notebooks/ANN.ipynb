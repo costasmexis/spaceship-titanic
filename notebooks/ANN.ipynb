{
 "cells": [
  {
   "cell_type": "code",
   "execution_count": 1,
   "id": "a67438de",
   "metadata": {},
   "outputs": [],
   "source": [
    "import numpy as np\n",
    "import pandas as pd\n",
    "import matplotlib.pyplot as plt\n",
    "import seaborn as sns\n",
    "sns.set(style='darkgrid', font_scale=1.4)\n",
    "\n",
    "from sklearn.model_selection import train_test_split\n",
    "from sklearn.model_selection import cross_val_score\n",
    "from sklearn.preprocessing import StandardScaler\n",
    "from sklearn.metrics import accuracy_score\n",
    "from sklearn.feature_selection import SelectKBest\n",
    "from sklearn.pipeline import Pipeline"
   ]
  },
  {
   "cell_type": "code",
   "execution_count": 2,
   "id": "77dbc746",
   "metadata": {},
   "outputs": [],
   "source": [
    "def load_dataset(filename, train_or_test):\n",
    "    df = pd.read_csv(filename)\n",
    "    df = df.set_index('PassengerId')\n",
    "    if(train_or_test):\n",
    "        df['Transported'] = df['Transported'].astype(int)\n",
    "        X = df.drop(['Transported'],axis=1)\n",
    "        y = df['Transported']\n",
    "        return X, y\n",
    "    else:\n",
    "        return df"
   ]
  },
  {
   "cell_type": "markdown",
   "id": "0db27dd8",
   "metadata": {},
   "source": [
    "# Load Datasets"
   ]
  },
  {
   "cell_type": "code",
   "execution_count": 28,
   "id": "afe3cfbf",
   "metadata": {},
   "outputs": [],
   "source": [
    "X, y = load_dataset('../data/data_train.csv', 1)\n",
    "X_test = load_dataset('../data/data_test.csv', 0)"
   ]
  },
  {
   "cell_type": "code",
   "execution_count": null,
   "id": "66f872ce",
   "metadata": {},
   "outputs": [],
   "source": [
    "X_train, X_valid, y_train, y_valid = train_test_split(X,y,stratify=y,\n",
    "                                                      test_size=0.2,random_state=0)"
   ]
  },
  {
   "cell_type": "code",
   "execution_count": 27,
   "id": "08aa04c4",
   "metadata": {},
   "outputs": [
    {
     "ename": "NameError",
     "evalue": "name 'X_train' is not defined",
     "output_type": "error",
     "traceback": [
      "\u001b[0;31m---------------------------------------------------------------------------\u001b[0m",
      "\u001b[0;31mNameError\u001b[0m                                 Traceback (most recent call last)",
      "Input \u001b[0;32mIn [27]\u001b[0m, in \u001b[0;36m<cell line: 2>\u001b[0;34m()\u001b[0m\n\u001b[1;32m      1\u001b[0m scaler \u001b[38;5;241m=\u001b[39m StandardScaler()\n\u001b[0;32m----> 2\u001b[0m X_train \u001b[38;5;241m=\u001b[39m scaler\u001b[38;5;241m.\u001b[39mfit_transform(\u001b[43mX_train\u001b[49m)\n\u001b[1;32m      3\u001b[0m X_valid \u001b[38;5;241m=\u001b[39m scaler\u001b[38;5;241m.\u001b[39mtransform(X_valid)\n",
      "\u001b[0;31mNameError\u001b[0m: name 'X_train' is not defined"
     ]
    }
   ],
   "source": [
    "scaler = StandardScaler()\n",
    "X_train = scaler.fit_transform(X_train)\n",
    "X_valid = scaler.transform(X_valid)"
   ]
  },
  {
   "cell_type": "code",
   "execution_count": 29,
   "id": "57d1af8c",
   "metadata": {},
   "outputs": [],
   "source": [
    "import tensorflow as tf\n",
    "import keras\n",
    "from keras.models import Sequential\n",
    "from keras.layers import Dense\n",
    "from keras.wrappers.scikit_learn import KerasClassifier"
   ]
  },
  {
   "cell_type": "code",
   "execution_count": 30,
   "id": "0747effc",
   "metadata": {
    "scrolled": false
   },
   "outputs": [],
   "source": [
    "opt = tf.keras.optimizers.SGD(learning_rate=0.01)\n",
    "\n",
    "model = Sequential()\n",
    "model.add(Dense(512, activation='relu', input_dim=X.shape[1]))\n",
    "model.add(Dense(512, activation='relu'))\n",
    "model.add(Dense(512, activation='relu'))\n",
    "model.add(Dense(1, activation='sigmoid'))\n",
    "model.compile(optimizer=opt, loss='binary_crossentropy', \n",
    "              metrics=['accuracy'])"
   ]
  },
  {
   "cell_type": "code",
   "execution_count": 31,
   "id": "c8cd8e8c",
   "metadata": {
    "scrolled": true
   },
   "outputs": [
    {
     "ename": "NameError",
     "evalue": "name 'X_train' is not defined",
     "output_type": "error",
     "traceback": [
      "\u001b[0;31m---------------------------------------------------------------------------\u001b[0m",
      "\u001b[0;31mNameError\u001b[0m                                 Traceback (most recent call last)",
      "Input \u001b[0;32mIn [31]\u001b[0m, in \u001b[0;36m<cell line: 1>\u001b[0;34m()\u001b[0m\n\u001b[0;32m----> 1\u001b[0m hist \u001b[38;5;241m=\u001b[39m model\u001b[38;5;241m.\u001b[39mfit(\u001b[43mX_train\u001b[49m, y_train, epochs\u001b[38;5;241m=\u001b[39m\u001b[38;5;241m30\u001b[39m,\n\u001b[1;32m      2\u001b[0m                  batch_size\u001b[38;5;241m=\u001b[39m\u001b[38;5;241m10\u001b[39m)\n",
      "\u001b[0;31mNameError\u001b[0m: name 'X_train' is not defined"
     ]
    }
   ],
   "source": [
    "hist = model.fit(X_train, y_train, epochs=30,\n",
    "                 batch_size=10)"
   ]
  },
  {
   "cell_type": "code",
   "execution_count": null,
   "id": "c889f1a0",
   "metadata": {},
   "outputs": [],
   "source": [
    "y_pred = model.predict(X_valid) > .5\n",
    "y_pred"
   ]
  },
  {
   "cell_type": "code",
   "execution_count": null,
   "id": "3f874d2e",
   "metadata": {
    "scrolled": true
   },
   "outputs": [],
   "source": [
    "print(\"Accuracy:\",accuracy_score(y_valid, y_pred))"
   ]
  },
  {
   "cell_type": "code",
   "execution_count": null,
   "id": "7b636f3c",
   "metadata": {},
   "outputs": [],
   "source": []
  },
  {
   "cell_type": "code",
   "execution_count": null,
   "id": "6315a9ad",
   "metadata": {},
   "outputs": [],
   "source": []
  },
  {
   "cell_type": "code",
   "execution_count": null,
   "id": "ec114eed",
   "metadata": {},
   "outputs": [],
   "source": []
  },
  {
   "cell_type": "code",
   "execution_count": 34,
   "id": "4ff32af7",
   "metadata": {},
   "outputs": [
    {
     "name": "stderr",
     "output_type": "stream",
     "text": [
      "/home/comex/environments/tensorflow/lib/python3.8/site-packages/sklearn/base.py:443: UserWarning: X has feature names, but StandardScaler was fitted without feature names\n",
      "  warnings.warn(\n"
     ]
    }
   ],
   "source": [
    "scaler = StandardScaler()\n",
    "X = scaler.fit_transform(X)\n",
    "X_test_ = scaler.transform(X_test)"
   ]
  },
  {
   "cell_type": "code",
   "execution_count": 35,
   "id": "2f6aa324",
   "metadata": {
    "scrolled": true
   },
   "outputs": [
    {
     "name": "stdout",
     "output_type": "stream",
     "text": [
      "Epoch 1/30\n",
      "870/870 [==============================] - 6s 6ms/step - loss: 0.5029 - accuracy: 0.7639\n",
      "Epoch 2/30\n",
      "870/870 [==============================] - 5s 6ms/step - loss: 0.4122 - accuracy: 0.7933\n",
      "Epoch 3/30\n",
      "870/870 [==============================] - 5s 6ms/step - loss: 0.3934 - accuracy: 0.8064\n",
      "Epoch 4/30\n",
      "870/870 [==============================] - 5s 6ms/step - loss: 0.3845 - accuracy: 0.8150\n",
      "Epoch 5/30\n",
      "870/870 [==============================] - 6s 7ms/step - loss: 0.3764 - accuracy: 0.8139\n",
      "Epoch 6/30\n",
      "870/870 [==============================] - 5s 6ms/step - loss: 0.3716 - accuracy: 0.8181\n",
      "Epoch 7/30\n",
      "870/870 [==============================] - 5s 6ms/step - loss: 0.3651 - accuracy: 0.8234\n",
      "Epoch 8/30\n",
      "870/870 [==============================] - 5s 5ms/step - loss: 0.3626 - accuracy: 0.8261\n",
      "Epoch 9/30\n",
      "870/870 [==============================] - 5s 5ms/step - loss: 0.3580 - accuracy: 0.8279\n",
      "Epoch 10/30\n",
      "870/870 [==============================] - 5s 5ms/step - loss: 0.3537 - accuracy: 0.8322\n",
      "Epoch 11/30\n",
      "870/870 [==============================] - 5s 5ms/step - loss: 0.3522 - accuracy: 0.8300\n",
      "Epoch 12/30\n",
      "870/870 [==============================] - 5s 5ms/step - loss: 0.3482 - accuracy: 0.8320\n",
      "Epoch 13/30\n",
      "870/870 [==============================] - 4s 5ms/step - loss: 0.3454 - accuracy: 0.8362\n",
      "Epoch 14/30\n",
      "870/870 [==============================] - 5s 6ms/step - loss: 0.3424 - accuracy: 0.8364\n",
      "Epoch 15/30\n",
      "870/870 [==============================] - 5s 6ms/step - loss: 0.3393 - accuracy: 0.8377\n",
      "Epoch 16/30\n",
      "870/870 [==============================] - 4s 5ms/step - loss: 0.3374 - accuracy: 0.8434\n",
      "Epoch 17/30\n",
      "870/870 [==============================] - 4s 5ms/step - loss: 0.3339 - accuracy: 0.8381\n",
      "Epoch 18/30\n",
      "870/870 [==============================] - 6s 6ms/step - loss: 0.3297 - accuracy: 0.8423\n",
      "Epoch 19/30\n",
      "870/870 [==============================] - 5s 5ms/step - loss: 0.3284 - accuracy: 0.8450\n",
      "Epoch 20/30\n",
      "870/870 [==============================] - 5s 6ms/step - loss: 0.3278 - accuracy: 0.8440\n",
      "Epoch 21/30\n",
      "870/870 [==============================] - 5s 5ms/step - loss: 0.3253 - accuracy: 0.8447\n",
      "Epoch 22/30\n",
      "870/870 [==============================] - 5s 5ms/step - loss: 0.3224 - accuracy: 0.8469\n",
      "Epoch 23/30\n",
      "870/870 [==============================] - 5s 5ms/step - loss: 0.3192 - accuracy: 0.8485\n",
      "Epoch 24/30\n",
      "870/870 [==============================] - 5s 6ms/step - loss: 0.3167 - accuracy: 0.8494\n",
      "Epoch 25/30\n",
      "870/870 [==============================] - 5s 6ms/step - loss: 0.3154 - accuracy: 0.8505\n",
      "Epoch 26/30\n",
      "870/870 [==============================] - 6s 7ms/step - loss: 0.3135 - accuracy: 0.8495\n",
      "Epoch 27/30\n",
      "870/870 [==============================] - 6s 7ms/step - loss: 0.3111 - accuracy: 0.8472\n",
      "Epoch 28/30\n",
      "870/870 [==============================] - 7s 8ms/step - loss: 0.3082 - accuracy: 0.8544\n",
      "Epoch 29/30\n",
      "870/870 [==============================] - 9s 10ms/step - loss: 0.3072 - accuracy: 0.8567\n",
      "Epoch 30/30\n",
      "870/870 [==============================] - 8s 9ms/step - loss: 0.3054 - accuracy: 0.8534\n"
     ]
    }
   ],
   "source": [
    "hist = model.fit(X, y, epochs=30,\n",
    "                 batch_size=10)"
   ]
  },
  {
   "cell_type": "code",
   "execution_count": 36,
   "id": "c7f8b7c9",
   "metadata": {},
   "outputs": [
    {
     "data": {
      "text/plain": [
       "array([[ True],\n",
       "       [False],\n",
       "       [ True],\n",
       "       ...,\n",
       "       [False],\n",
       "       [False],\n",
       "       [ True]])"
      ]
     },
     "execution_count": 36,
     "metadata": {},
     "output_type": "execute_result"
    }
   ],
   "source": [
    "y_pred = model.predict(X_test_) > .5\n",
    "y_pred"
   ]
  },
  {
   "cell_type": "code",
   "execution_count": 37,
   "id": "aaccba7a",
   "metadata": {},
   "outputs": [],
   "source": [
    "y_pred = y_pred.reshape(-1,)"
   ]
  },
  {
   "cell_type": "code",
   "execution_count": 38,
   "id": "da6c722c",
   "metadata": {},
   "outputs": [],
   "source": [
    "submission = pd.DataFrame({'PassengerId':X_test.index ,'Transported': y_pred.astype(bool)},\n",
    "        columns=['PassengerId', 'Transported'])\n",
    "\n",
    "submission.to_csv(\"../submissions/submission_first_ANN.csv\",index=False)"
   ]
  }
 ],
 "metadata": {
  "kernelspec": {
   "display_name": "Python 3 (ipykernel)",
   "language": "python",
   "name": "python3"
  },
  "language_info": {
   "codemirror_mode": {
    "name": "ipython",
    "version": 3
   },
   "file_extension": ".py",
   "mimetype": "text/x-python",
   "name": "python",
   "nbconvert_exporter": "python",
   "pygments_lexer": "ipython3",
   "version": "3.8.10"
  }
 },
 "nbformat": 4,
 "nbformat_minor": 5
}
