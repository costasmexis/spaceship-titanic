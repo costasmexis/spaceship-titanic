{
 "cells": [
  {
   "cell_type": "markdown",
   "id": "6ee035eb",
   "metadata": {},
   "source": [
    "# Loading Basic Libraries"
   ]
  },
  {
   "cell_type": "code",
   "execution_count": 37,
   "id": "a2670afd",
   "metadata": {},
   "outputs": [],
   "source": [
    "import numpy as np\n",
    "import pandas as pd\n",
    "import matplotlib.pyplot as plt\n",
    "import seaborn as sns\n",
    "sns.set(style='darkgrid', font_scale=1.4)\n",
    "\n",
    "from sklearn.model_selection import train_test_split\n",
    "from sklearn.preprocessing import StandardScaler\n",
    "from sklearn.linear_model import LogisticRegression\n",
    "from sklearn.metrics import accuracy_score\n",
    "from sklearn.feature_selection import SelectKBest\n",
    "from sklearn.feature_selection import RFE\n",
    "from sklearn.feature_selection import chi2"
   ]
  },
  {
   "cell_type": "markdown",
   "id": "82b3bd7a",
   "metadata": {},
   "source": [
    "# Load Dataset"
   ]
  },
  {
   "cell_type": "code",
   "execution_count": 59,
   "id": "aeffff5b",
   "metadata": {},
   "outputs": [],
   "source": [
    "def load_dataset(filename, train_or_test):\n",
    "    df = pd.read_csv(filename)\n",
    "    df = df.set_index('PassengerId')\n",
    "    if(train_or_test):\n",
    "        df['Transported'] = df['Transported'].astype(int)\n",
    "        X = df.drop(['Transported'],axis=1)\n",
    "        y = df['Transported']\n",
    "        return X, y\n",
    "    else:\n",
    "        return df"
   ]
  },
  {
   "cell_type": "code",
   "execution_count": 61,
   "id": "4e2f5a0b",
   "metadata": {},
   "outputs": [],
   "source": [
    "X, y = load_dataset('../data/data_train.csv', 1)"
   ]
  },
  {
   "cell_type": "markdown",
   "id": "a5666522",
   "metadata": {},
   "source": [
    "# Split data"
   ]
  },
  {
   "cell_type": "code",
   "execution_count": 63,
   "id": "10681cb5",
   "metadata": {},
   "outputs": [],
   "source": [
    "X_train, X_valid, y_train, y_valid = train_test_split(X,y,stratify=y,test_size=0.2,random_state=0)"
   ]
  },
  {
   "cell_type": "markdown",
   "id": "2d635d62",
   "metadata": {},
   "source": [
    "# Modelling"
   ]
  },
  {
   "cell_type": "code",
   "execution_count": 64,
   "id": "3412db0b",
   "metadata": {},
   "outputs": [],
   "source": [
    "def run(X_train, y_train, X_valid, y_valid):\n",
    "    scaler = StandardScaler()\n",
    "    X_train = scaler.fit_transform(X_train)\n",
    "    X_valid = scaler.transform(X_valid)\n",
    "\n",
    "    model = LogisticRegression()\n",
    "    model.fit(X_train, y_train)\n",
    "\n",
    "    y_pred = model.predict(X_valid)\n",
    "    print(\"Accuracy:\",accuracy_score(y_valid, y_pred))"
   ]
  },
  {
   "cell_type": "code",
   "execution_count": 65,
   "id": "99d75f60",
   "metadata": {},
   "outputs": [],
   "source": [
    "# feature selection\n",
    "def select_features(X_train, y_train, X_test, k):\n",
    "    fs = SelectKBest(score_func=chi2, k=k)\n",
    "    fs.fit(X_train, y_train)\n",
    "    X_train_fs = fs.transform(X_train)\n",
    "    X_test_fs = fs.transform(X_test)\n",
    "    return X_train_fs, X_test_fs, fs\n",
    "\n",
    "# X_train_fs, X_valid_fs, fs = select_features(X_train, y_train, X_valid, k)"
   ]
  },
  {
   "cell_type": "code",
   "execution_count": 34,
   "id": "f5bfca4f",
   "metadata": {
    "scrolled": true
   },
   "outputs": [
    {
     "name": "stdout",
     "output_type": "stream",
     "text": [
      "k = 2\n",
      "Accuracy: 0.5968947671075331\n",
      "k = 3\n",
      "Accuracy: 0.6302472685451409\n",
      "k = 4\n",
      "Accuracy: 0.6906267970097757\n",
      "k = 5\n",
      "Accuracy: 0.7619321449108684\n",
      "k = 6\n",
      "Accuracy: 0.7636572742955722\n",
      "k = 7\n",
      "Accuracy: 0.7642323174238068\n",
      "k = 8\n",
      "Accuracy: 0.777458309373203\n",
      "k = 9\n",
      "Accuracy: 0.78205865439908\n",
      "k = 10\n",
      "Accuracy: 0.7797584818861415\n",
      "k = 11\n",
      "Accuracy: 0.7837837837837838\n",
      "k = 12\n",
      "Accuracy: 0.7832087406555491\n",
      "k = 13\n",
      "Accuracy: 0.7855089131684876\n",
      "k = 14\n",
      "Accuracy: 0.7866589994249569\n",
      "k = 15\n",
      "Accuracy: 0.7763082231167338\n",
      "k = 16\n",
      "Accuracy: 0.7722829212190915\n",
      "k = 17\n",
      "Accuracy: 0.7878090856814262\n",
      "k = 18\n",
      "Accuracy: 0.7912593444508338\n",
      "k = 19\n",
      "Accuracy: 0.7889591719378953\n",
      "k = 20\n",
      "Accuracy: 0.7924094307073031\n",
      "k = 21\n",
      "Accuracy: 0.7918343875790684\n",
      "k = 22\n",
      "Accuracy: 0.7918343875790684\n",
      "k = 23\n",
      "Accuracy: 0.7912593444508338\n",
      "k = 24\n",
      "Accuracy: 0.7912593444508338\n",
      "k = 25\n",
      "Accuracy: 0.7912593444508338\n",
      "k = 26\n",
      "Accuracy: 0.7889591719378953\n",
      "k = 27\n",
      "Accuracy: 0.7889591719378953\n",
      "k = 28\n",
      "Accuracy: 0.7883841288096607\n",
      "k = 29\n",
      "Accuracy: 0.7883841288096607\n",
      "k = 30\n",
      "Accuracy: 0.7878090856814262\n",
      "k = 31\n",
      "Accuracy: 0.78953421506613\n",
      "k = 32\n",
      "Accuracy: 0.7941345600920069\n",
      "k = 33\n",
      "Accuracy: 0.7947096032202415\n",
      "k = 34\n",
      "Accuracy: 0.7906843013225991\n",
      "k = 35\n",
      "Accuracy: 0.7906843013225991\n",
      "k = 36\n",
      "Accuracy: 0.7906843013225991\n"
     ]
    }
   ],
   "source": [
    "for k in range(2, X_df.shape[1]+1): \n",
    "    print(\"k =\",k)\n",
    "    X_train_fs, X_valid_fs, fs = select_features(X_train, y_train, X_valid, k)\n",
    "    run(X_train_fs, y_train, X_valid_fs, y_valid)"
   ]
  },
  {
   "cell_type": "code",
   "execution_count": 36,
   "id": "a1664b1f",
   "metadata": {},
   "outputs": [
    {
     "name": "stdout",
     "output_type": "stream",
     "text": [
      "Accuracy: 0.7906843013225991\n"
     ]
    }
   ],
   "source": [
    "run(X_train, y_train, X_valid, y_valid)"
   ]
  },
  {
   "cell_type": "markdown",
   "id": "ff8165ae",
   "metadata": {},
   "source": [
    "## `k=33` best accuracy"
   ]
  },
  {
   "cell_type": "code",
   "execution_count": 66,
   "id": "d9641e6a",
   "metadata": {},
   "outputs": [
    {
     "name": "stdout",
     "output_type": "stream",
     "text": [
      "Accuracy: 0.7947096032202415\n"
     ]
    }
   ],
   "source": [
    "X_train_fs, X_valid_fs, fs = select_features(X_train, y_train, X_valid, 33)\n",
    "run(X_train_fs, y_train, X_valid_fs, y_valid)"
   ]
  },
  {
   "cell_type": "code",
   "execution_count": 69,
   "id": "59606784",
   "metadata": {},
   "outputs": [],
   "source": [
    "X_test = load_dataset('../data/data_test.csv', 0)"
   ]
  },
  {
   "cell_type": "code",
   "execution_count": 72,
   "id": "75703400",
   "metadata": {},
   "outputs": [],
   "source": [
    "X_train_fs, X_test, fs = select_features(X, y, X_test, 33)"
   ]
  },
  {
   "cell_type": "code",
   "execution_count": null,
   "id": "17b5e4ba",
   "metadata": {},
   "outputs": [],
   "source": [
    "scaler = StandardScaler()\n",
    "X_train = scaler.fit_transform(X_train_fs)\n",
    "    X_valid = scaler.transform(X_)\n",
    "\n",
    "    model = LogisticRegression()\n",
    "    model.fit(X_train, y_train)\n",
    "\n",
    "    y_pred = model.predict(X_valid)\n",
    "    print(\"Accuracy:\",accuracy_score(y_valid, y_pred))"
   ]
  },
  {
   "cell_type": "code",
   "execution_count": null,
   "id": "429681df",
   "metadata": {},
   "outputs": [],
   "source": []
  },
  {
   "cell_type": "code",
   "execution_count": null,
   "id": "6aad39ee",
   "metadata": {},
   "outputs": [],
   "source": []
  },
  {
   "cell_type": "code",
   "execution_count": null,
   "id": "f6244588",
   "metadata": {},
   "outputs": [],
   "source": []
  },
  {
   "cell_type": "markdown",
   "id": "85c2f4c6",
   "metadata": {},
   "source": [
    "# Recursive Feature Elimination (`RFE`)"
   ]
  },
  {
   "cell_type": "code",
   "execution_count": 40,
   "id": "df66b9a1",
   "metadata": {},
   "outputs": [],
   "source": [
    "def my_rfe(X_train, y_train, X_test, model, n_features):\n",
    "    rfe = RFE(model, n_features_to_select=n_features)\n",
    "    rfe.fit(X_train, y_train)\n",
    "    X_train_rfe = rfe.transform(X_train)\n",
    "    X_test_rfe = rfe.transform(X_test)\n",
    "    return X_train_rfe, X_test_rfe, rfe"
   ]
  },
  {
   "cell_type": "code",
   "execution_count": 42,
   "id": "2d1eace3",
   "metadata": {},
   "outputs": [],
   "source": [
    "X_train_rfe, X_valid_rfe, rfe = my_rfe(X_train, y_train, X_valid, LogisticRegression(max_iter=10000), 3)"
   ]
  },
  {
   "cell_type": "code",
   "execution_count": 52,
   "id": "9dbef26c",
   "metadata": {
    "collapsed": true
   },
   "outputs": [
    {
     "name": "stdout",
     "output_type": "stream",
     "text": [
      "n_features = 2\n",
      "Accuracy: 0.7130534790109259\n",
      "n_features = 7\n",
      "Accuracy: 0.7130534790109259\n",
      "n_features = 12\n",
      "Accuracy: 0.7130534790109259\n",
      "n_features = 17\n",
      "Accuracy: 0.7130534790109259\n",
      "n_features = 22\n",
      "Accuracy: 0.7130534790109259\n",
      "n_features = 27\n",
      "Accuracy: 0.7130534790109259\n",
      "n_features = 32\n",
      "Accuracy: 0.7130534790109259\n"
     ]
    }
   ],
   "source": [
    "for k in range(2, X_df.shape[1], 5): \n",
    "    print(\"n_features =\",k)\n",
    "    X_train_rfe, X_valid_rfe, rfe = my_rfe(X_train, y_train, X_valid, LogisticRegression(max_iter=10000), 3)   \n",
    "    run(X_train_rfe, y_train, X_valid_rfe, y_valid)"
   ]
  }
 ],
 "metadata": {
  "kernelspec": {
   "display_name": "Python 3 (ipykernel)",
   "language": "python",
   "name": "python3"
  },
  "language_info": {
   "codemirror_mode": {
    "name": "ipython",
    "version": 3
   },
   "file_extension": ".py",
   "mimetype": "text/x-python",
   "name": "python",
   "nbconvert_exporter": "python",
   "pygments_lexer": "ipython3",
   "version": "3.8.10"
  }
 },
 "nbformat": 4,
 "nbformat_minor": 5
}
