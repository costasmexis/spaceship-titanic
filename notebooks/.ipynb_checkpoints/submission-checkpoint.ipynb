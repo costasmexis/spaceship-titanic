{
 "cells": [
  {
   "cell_type": "markdown",
   "id": "6ee035eb",
   "metadata": {},
   "source": [
    "# Loading Basic Libraries"
   ]
  },
  {
   "cell_type": "code",
   "execution_count": 1,
   "id": "a2670afd",
   "metadata": {},
   "outputs": [],
   "source": [
    "import numpy as np\n",
    "import pandas as pd\n",
    "import matplotlib.pyplot as plt\n",
    "import seaborn as sns\n",
    "sns.set(style='darkgrid', font_scale=1.4)\n",
    "\n",
    "from sklearn.model_selection import train_test_split\n",
    "from sklearn.preprocessing import StandardScaler\n",
    "from sklearn.linear_model import LogisticRegression\n",
    "from sklearn.metrics import accuracy_score\n",
    "from sklearn.feature_selection import SelectKBest\n",
    "from sklearn.feature_selection import RFE\n",
    "from sklearn.feature_selection import chi2"
   ]
  },
  {
   "cell_type": "markdown",
   "id": "82b3bd7a",
   "metadata": {},
   "source": [
    "# Load Dataset"
   ]
  },
  {
   "cell_type": "code",
   "execution_count": 2,
   "id": "aeffff5b",
   "metadata": {},
   "outputs": [],
   "source": [
    "def load_dataset(filename, train_or_test):\n",
    "    df = pd.read_csv(filename)\n",
    "    df = df.set_index('PassengerId')\n",
    "    if(train_or_test):\n",
    "        df['Transported'] = df['Transported'].astype(int)\n",
    "        X = df.drop(['Transported'],axis=1)\n",
    "        y = df['Transported']\n",
    "        return X, y\n",
    "    else:\n",
    "        return df"
   ]
  },
  {
   "cell_type": "code",
   "execution_count": 8,
   "id": "4e2f5a0b",
   "metadata": {},
   "outputs": [],
   "source": [
    "X_train, y_train = load_dataset('../data/data_train.csv', 1)"
   ]
  },
  {
   "cell_type": "code",
   "execution_count": 7,
   "id": "55dc9fca",
   "metadata": {},
   "outputs": [],
   "source": [
    "X_test = load_dataset('../data/data_test.csv', 0)"
   ]
  },
  {
   "cell_type": "markdown",
   "id": "2d635d62",
   "metadata": {},
   "source": [
    "# Modelling"
   ]
  },
  {
   "cell_type": "code",
   "execution_count": 21,
   "id": "3412db0b",
   "metadata": {},
   "outputs": [],
   "source": [
    "def run(X_train, y_train, X_valid, y_valid):\n",
    "    scaler = StandardScaler()\n",
    "    X_train = scaler.fit_transform(X_train)\n",
    "    X_valid = scaler.transform(X_valid)\n",
    "\n",
    "    model = LogisticRegression()\n",
    "    model.fit(X_train, y_train)\n",
    "\n",
    "    y_pred = model.predict(X_valid)\n",
    "    print(\"Accuracy:\",accuracy_score(y_valid, y_pred))"
   ]
  },
  {
   "cell_type": "code",
   "execution_count": 22,
   "id": "99d75f60",
   "metadata": {},
   "outputs": [],
   "source": [
    "# feature selection\n",
    "def select_features(X_train, y_train, X_test, k):\n",
    "    fs = SelectKBest(score_func=chi2, k=k)\n",
    "    fs.fit(X_train, y_train)\n",
    "    X_train_fs = fs.transform(X_train)\n",
    "    X_test_fs = fs.transform(X_test)\n",
    "    return X_train_fs, X_test_fs, fs\n",
    "\n",
    "# X_train_fs, X_valid_fs, fs = select_features(X_train, y_train, X_valid, k)"
   ]
  },
  {
   "cell_type": "markdown",
   "id": "ff8165ae",
   "metadata": {},
   "source": [
    "## `k=33` best accuracy"
   ]
  },
  {
   "cell_type": "code",
   "execution_count": 23,
   "id": "75703400",
   "metadata": {},
   "outputs": [],
   "source": [
    "X_train_fs, X_test_fs, fs = select_features(X_train, y_train, X_test, 33)"
   ]
  },
  {
   "cell_type": "code",
   "execution_count": 24,
   "id": "17b5e4ba",
   "metadata": {},
   "outputs": [],
   "source": [
    "scaler = StandardScaler()\n",
    "X_train_fs = scaler.fit_transform(X_train_fs)\n",
    "X_test_fs = scaler.transform(X_test_fs)\n",
    "\n",
    "model = LogisticRegression()\n",
    "model.fit(X_train_fs, y_train)\n",
    "\n",
    "y_pred = model.predict(X_test_fs)"
   ]
  },
  {
   "cell_type": "code",
   "execution_count": 25,
   "id": "a66fd68a",
   "metadata": {},
   "outputs": [],
   "source": [
    "submission = pd.DataFrame({'PassengerId':X_test.index ,'Transported': y_pred.astype(bool)},\n",
    "        columns=['PassengerId', 'Transported'])\n",
    "\n",
    "submission.to_csv(\"../submissions/submission_with_SelectKBest_lg.csv\",index=False)"
   ]
  },
  {
   "cell_type": "markdown",
   "id": "ce55d926",
   "metadata": {},
   "source": [
    "# SVC()"
   ]
  },
  {
   "cell_type": "code",
   "execution_count": 28,
   "id": "3a809662",
   "metadata": {
    "scrolled": true
   },
   "outputs": [
    {
     "name": "stdout",
     "output_type": "stream",
     "text": [
      "Fitting 3 folds for each of 25 candidates, totalling 75 fits\n",
      "[CV 1/3; 1/25] START C=10, gamma=0.004, kernel=rbf..............................\n",
      "[CV 1/3; 1/25] END ............C=10, gamma=0.004, kernel=rbf; total time=   2.3s\n",
      "[CV 2/3; 1/25] START C=10, gamma=0.004, kernel=rbf..............................\n",
      "[CV 2/3; 1/25] END ............C=10, gamma=0.004, kernel=rbf; total time=   2.3s\n",
      "[CV 3/3; 1/25] START C=10, gamma=0.004, kernel=rbf..............................\n",
      "[CV 3/3; 1/25] END ............C=10, gamma=0.004, kernel=rbf; total time=   2.1s\n",
      "[CV 1/3; 2/25] START C=2, gamma=0.004, kernel=rbf...............................\n",
      "[CV 1/3; 2/25] END .............C=2, gamma=0.004, kernel=rbf; total time=   1.8s\n",
      "[CV 2/3; 2/25] START C=2, gamma=0.004, kernel=rbf...............................\n",
      "[CV 2/3; 2/25] END .............C=2, gamma=0.004, kernel=rbf; total time=   2.4s\n",
      "[CV 3/3; 2/25] START C=2, gamma=0.004, kernel=rbf...............................\n",
      "[CV 3/3; 2/25] END .............C=2, gamma=0.004, kernel=rbf; total time=   2.2s\n",
      "[CV 1/3; 3/25] START C=12, gamma=0.004, kernel=rbf..............................\n",
      "[CV 1/3; 3/25] END ............C=12, gamma=0.004, kernel=rbf; total time=   2.3s\n",
      "[CV 2/3; 3/25] START C=12, gamma=0.004, kernel=rbf..............................\n",
      "[CV 2/3; 3/25] END ............C=12, gamma=0.004, kernel=rbf; total time=   2.3s\n",
      "[CV 3/3; 3/25] START C=12, gamma=0.004, kernel=rbf..............................\n",
      "[CV 3/3; 3/25] END ............C=12, gamma=0.004, kernel=rbf; total time=   2.9s\n",
      "[CV 1/3; 4/25] START C=2, gamma=0.002, kernel=rbf...............................\n",
      "[CV 1/3; 4/25] END .............C=2, gamma=0.002, kernel=rbf; total time=   2.0s\n",
      "[CV 2/3; 4/25] START C=2, gamma=0.002, kernel=rbf...............................\n",
      "[CV 2/3; 4/25] END .............C=2, gamma=0.002, kernel=rbf; total time=   2.4s\n",
      "[CV 3/3; 4/25] START C=2, gamma=0.002, kernel=rbf...............................\n",
      "[CV 3/3; 4/25] END .............C=2, gamma=0.002, kernel=rbf; total time=   2.6s\n",
      "[CV 1/3; 5/25] START C=1, gamma=0.004, kernel=rbf...............................\n",
      "[CV 1/3; 5/25] END .............C=1, gamma=0.004, kernel=rbf; total time=   2.3s\n",
      "[CV 2/3; 5/25] START C=1, gamma=0.004, kernel=rbf...............................\n",
      "[CV 2/3; 5/25] END .............C=1, gamma=0.004, kernel=rbf; total time=   2.5s\n",
      "[CV 3/3; 5/25] START C=1, gamma=0.004, kernel=rbf...............................\n",
      "[CV 3/3; 5/25] END .............C=1, gamma=0.004, kernel=rbf; total time=   2.5s\n",
      "[CV 1/3; 6/25] START C=10, gamma=0.003, kernel=rbf..............................\n",
      "[CV 1/3; 6/25] END ............C=10, gamma=0.003, kernel=rbf; total time=   1.9s\n",
      "[CV 2/3; 6/25] START C=10, gamma=0.003, kernel=rbf..............................\n",
      "[CV 2/3; 6/25] END ............C=10, gamma=0.003, kernel=rbf; total time=   2.7s\n",
      "[CV 3/3; 6/25] START C=10, gamma=0.003, kernel=rbf..............................\n",
      "[CV 3/3; 6/25] END ............C=10, gamma=0.003, kernel=rbf; total time=   2.2s\n",
      "[CV 1/3; 7/25] START C=5, gamma=0.002, kernel=rbf...............................\n",
      "[CV 1/3; 7/25] END .............C=5, gamma=0.002, kernel=rbf; total time=   1.8s\n",
      "[CV 2/3; 7/25] START C=5, gamma=0.002, kernel=rbf...............................\n",
      "[CV 2/3; 7/25] END .............C=5, gamma=0.002, kernel=rbf; total time=   2.1s\n",
      "[CV 3/3; 7/25] START C=5, gamma=0.002, kernel=rbf...............................\n",
      "[CV 3/3; 7/25] END .............C=5, gamma=0.002, kernel=rbf; total time=   2.0s\n",
      "[CV 1/3; 8/25] START C=12, gamma=0.001, kernel=rbf..............................\n",
      "[CV 1/3; 8/25] END ............C=12, gamma=0.001, kernel=rbf; total time=   1.8s\n",
      "[CV 2/3; 8/25] START C=12, gamma=0.001, kernel=rbf..............................\n",
      "[CV 2/3; 8/25] END ............C=12, gamma=0.001, kernel=rbf; total time=   1.9s\n",
      "[CV 3/3; 8/25] START C=12, gamma=0.001, kernel=rbf..............................\n",
      "[CV 3/3; 8/25] END ............C=12, gamma=0.001, kernel=rbf; total time=   2.2s\n",
      "[CV 1/3; 9/25] START C=20, gamma=0.003, kernel=rbf..............................\n",
      "[CV 1/3; 9/25] END ............C=20, gamma=0.003, kernel=rbf; total time=   2.1s\n",
      "[CV 2/3; 9/25] START C=20, gamma=0.003, kernel=rbf..............................\n",
      "[CV 2/3; 9/25] END ............C=20, gamma=0.003, kernel=rbf; total time=   2.2s\n",
      "[CV 3/3; 9/25] START C=20, gamma=0.003, kernel=rbf..............................\n",
      "[CV 3/3; 9/25] END ............C=20, gamma=0.003, kernel=rbf; total time=   2.3s\n",
      "[CV 1/3; 10/25] START C=12, gamma=0.003, kernel=rbf.............................\n",
      "[CV 1/3; 10/25] END ...........C=12, gamma=0.003, kernel=rbf; total time=   1.8s\n",
      "[CV 2/3; 10/25] START C=12, gamma=0.003, kernel=rbf.............................\n",
      "[CV 2/3; 10/25] END ...........C=12, gamma=0.003, kernel=rbf; total time=   2.0s\n",
      "[CV 3/3; 10/25] START C=12, gamma=0.003, kernel=rbf.............................\n",
      "[CV 3/3; 10/25] END ...........C=12, gamma=0.003, kernel=rbf; total time=   2.1s\n",
      "[CV 1/3; 11/25] START C=3, gamma=0.003, kernel=rbf..............................\n",
      "[CV 1/3; 11/25] END ............C=3, gamma=0.003, kernel=rbf; total time=   1.8s\n",
      "[CV 2/3; 11/25] START C=3, gamma=0.003, kernel=rbf..............................\n",
      "[CV 2/3; 11/25] END ............C=3, gamma=0.003, kernel=rbf; total time=   1.9s\n",
      "[CV 3/3; 11/25] START C=3, gamma=0.003, kernel=rbf..............................\n",
      "[CV 3/3; 11/25] END ............C=3, gamma=0.003, kernel=rbf; total time=   1.9s\n",
      "[CV 1/3; 12/25] START C=1.5, gamma=0.003, kernel=rbf............................\n",
      "[CV 1/3; 12/25] END ..........C=1.5, gamma=0.003, kernel=rbf; total time=   1.8s\n",
      "[CV 2/3; 12/25] START C=1.5, gamma=0.003, kernel=rbf............................\n",
      "[CV 2/3; 12/25] END ..........C=1.5, gamma=0.003, kernel=rbf; total time=   1.9s\n",
      "[CV 3/3; 12/25] START C=1.5, gamma=0.003, kernel=rbf............................\n",
      "[CV 3/3; 12/25] END ..........C=1.5, gamma=0.003, kernel=rbf; total time=   1.9s\n",
      "[CV 1/3; 13/25] START C=3, gamma=0.002, kernel=rbf..............................\n",
      "[CV 1/3; 13/25] END ............C=3, gamma=0.002, kernel=rbf; total time=   1.8s\n",
      "[CV 2/3; 13/25] START C=3, gamma=0.002, kernel=rbf..............................\n",
      "[CV 2/3; 13/25] END ............C=3, gamma=0.002, kernel=rbf; total time=   1.9s\n",
      "[CV 3/3; 13/25] START C=3, gamma=0.002, kernel=rbf..............................\n",
      "[CV 3/3; 13/25] END ............C=3, gamma=0.002, kernel=rbf; total time=   1.8s\n",
      "[CV 1/3; 14/25] START C=5, gamma=0.001, kernel=rbf..............................\n",
      "[CV 1/3; 14/25] END ............C=5, gamma=0.001, kernel=rbf; total time=   1.9s\n",
      "[CV 2/3; 14/25] START C=5, gamma=0.001, kernel=rbf..............................\n",
      "[CV 2/3; 14/25] END ............C=5, gamma=0.001, kernel=rbf; total time=   2.2s\n",
      "[CV 3/3; 14/25] START C=5, gamma=0.001, kernel=rbf..............................\n",
      "[CV 3/3; 14/25] END ............C=5, gamma=0.001, kernel=rbf; total time=   2.0s\n",
      "[CV 1/3; 15/25] START C=2, gamma=0.001, kernel=rbf..............................\n",
      "[CV 1/3; 15/25] END ............C=2, gamma=0.001, kernel=rbf; total time=   2.2s\n",
      "[CV 2/3; 15/25] START C=2, gamma=0.001, kernel=rbf..............................\n",
      "[CV 2/3; 15/25] END ............C=2, gamma=0.001, kernel=rbf; total time=   2.0s\n",
      "[CV 3/3; 15/25] START C=2, gamma=0.001, kernel=rbf..............................\n",
      "[CV 3/3; 15/25] END ............C=2, gamma=0.001, kernel=rbf; total time=   2.2s\n",
      "[CV 1/3; 16/25] START C=2, gamma=0.003, kernel=rbf..............................\n",
      "[CV 1/3; 16/25] END ............C=2, gamma=0.003, kernel=rbf; total time=   1.8s\n",
      "[CV 2/3; 16/25] START C=2, gamma=0.003, kernel=rbf..............................\n",
      "[CV 2/3; 16/25] END ............C=2, gamma=0.003, kernel=rbf; total time=   1.9s\n",
      "[CV 3/3; 16/25] START C=2, gamma=0.003, kernel=rbf..............................\n",
      "[CV 3/3; 16/25] END ............C=2, gamma=0.003, kernel=rbf; total time=   1.9s\n",
      "[CV 1/3; 17/25] START C=3, gamma=0.004, kernel=rbf..............................\n",
      "[CV 1/3; 17/25] END ............C=3, gamma=0.004, kernel=rbf; total time=   1.7s\n",
      "[CV 2/3; 17/25] START C=3, gamma=0.004, kernel=rbf..............................\n",
      "[CV 2/3; 17/25] END ............C=3, gamma=0.004, kernel=rbf; total time=   1.9s\n",
      "[CV 3/3; 17/25] START C=3, gamma=0.004, kernel=rbf..............................\n"
     ]
    },
    {
     "name": "stdout",
     "output_type": "stream",
     "text": [
      "[CV 3/3; 17/25] END ............C=3, gamma=0.004, kernel=rbf; total time=   2.6s\n",
      "[CV 1/3; 18/25] START C=1, gamma=0.003, kernel=rbf..............................\n",
      "[CV 1/3; 18/25] END ............C=1, gamma=0.003, kernel=rbf; total time=   1.9s\n",
      "[CV 2/3; 18/25] START C=1, gamma=0.003, kernel=rbf..............................\n",
      "[CV 2/3; 18/25] END ............C=1, gamma=0.003, kernel=rbf; total time=   1.9s\n",
      "[CV 3/3; 18/25] START C=1, gamma=0.003, kernel=rbf..............................\n",
      "[CV 3/3; 18/25] END ............C=1, gamma=0.003, kernel=rbf; total time=   2.0s\n",
      "[CV 1/3; 19/25] START C=1.5, gamma=0.001, kernel=rbf............................\n",
      "[CV 1/3; 19/25] END ..........C=1.5, gamma=0.001, kernel=rbf; total time=   1.9s\n",
      "[CV 2/3; 19/25] START C=1.5, gamma=0.001, kernel=rbf............................\n",
      "[CV 2/3; 19/25] END ..........C=1.5, gamma=0.001, kernel=rbf; total time=   1.9s\n",
      "[CV 3/3; 19/25] START C=1.5, gamma=0.001, kernel=rbf............................\n",
      "[CV 3/3; 19/25] END ..........C=1.5, gamma=0.001, kernel=rbf; total time=   2.2s\n",
      "[CV 1/3; 20/25] START C=10, gamma=0.001, kernel=rbf.............................\n",
      "[CV 1/3; 20/25] END ...........C=10, gamma=0.001, kernel=rbf; total time=   1.8s\n",
      "[CV 2/3; 20/25] START C=10, gamma=0.001, kernel=rbf.............................\n",
      "[CV 2/3; 20/25] END ...........C=10, gamma=0.001, kernel=rbf; total time=   1.9s\n",
      "[CV 3/3; 20/25] START C=10, gamma=0.001, kernel=rbf.............................\n",
      "[CV 3/3; 20/25] END ...........C=10, gamma=0.001, kernel=rbf; total time=   1.9s\n",
      "[CV 1/3; 21/25] START C=1, gamma=0.002, kernel=rbf..............................\n",
      "[CV 1/3; 21/25] END ............C=1, gamma=0.002, kernel=rbf; total time=   1.9s\n",
      "[CV 2/3; 21/25] START C=1, gamma=0.002, kernel=rbf..............................\n",
      "[CV 2/3; 21/25] END ............C=1, gamma=0.002, kernel=rbf; total time=   2.2s\n",
      "[CV 3/3; 21/25] START C=1, gamma=0.002, kernel=rbf..............................\n",
      "[CV 3/3; 21/25] END ............C=1, gamma=0.002, kernel=rbf; total time=   2.0s\n",
      "[CV 1/3; 22/25] START C=3, gamma=0.001, kernel=rbf..............................\n",
      "[CV 1/3; 22/25] END ............C=3, gamma=0.001, kernel=rbf; total time=   1.9s\n",
      "[CV 2/3; 22/25] START C=3, gamma=0.001, kernel=rbf..............................\n",
      "[CV 2/3; 22/25] END ............C=3, gamma=0.001, kernel=rbf; total time=   1.9s\n",
      "[CV 3/3; 22/25] START C=3, gamma=0.001, kernel=rbf..............................\n",
      "[CV 3/3; 22/25] END ............C=3, gamma=0.001, kernel=rbf; total time=   1.9s\n",
      "[CV 1/3; 23/25] START C=20, gamma=0.002, kernel=rbf.............................\n",
      "[CV 1/3; 23/25] END ...........C=20, gamma=0.002, kernel=rbf; total time=   1.8s\n",
      "[CV 2/3; 23/25] START C=20, gamma=0.002, kernel=rbf.............................\n",
      "[CV 2/3; 23/25] END ...........C=20, gamma=0.002, kernel=rbf; total time=   2.0s\n",
      "[CV 3/3; 23/25] START C=20, gamma=0.002, kernel=rbf.............................\n",
      "[CV 3/3; 23/25] END ...........C=20, gamma=0.002, kernel=rbf; total time=   2.0s\n",
      "[CV 1/3; 24/25] START C=5, gamma=0.004, kernel=rbf..............................\n",
      "[CV 1/3; 24/25] END ............C=5, gamma=0.004, kernel=rbf; total time=   1.8s\n",
      "[CV 2/3; 24/25] START C=5, gamma=0.004, kernel=rbf..............................\n",
      "[CV 2/3; 24/25] END ............C=5, gamma=0.004, kernel=rbf; total time=   1.9s\n",
      "[CV 3/3; 24/25] START C=5, gamma=0.004, kernel=rbf..............................\n",
      "[CV 3/3; 24/25] END ............C=5, gamma=0.004, kernel=rbf; total time=   1.9s\n",
      "[CV 1/3; 25/25] START C=10, gamma=0.002, kernel=rbf.............................\n",
      "[CV 1/3; 25/25] END ...........C=10, gamma=0.002, kernel=rbf; total time=   1.8s\n",
      "[CV 2/3; 25/25] START C=10, gamma=0.002, kernel=rbf.............................\n",
      "[CV 2/3; 25/25] END ...........C=10, gamma=0.002, kernel=rbf; total time=   1.9s\n",
      "[CV 3/3; 25/25] START C=10, gamma=0.002, kernel=rbf.............................\n",
      "[CV 3/3; 25/25] END ...........C=10, gamma=0.002, kernel=rbf; total time=   1.9s\n",
      "SVC(C=10, gamma=0.004, random_state=32)\n"
     ]
    }
   ],
   "source": [
    "from sklearn.svm import SVC\n",
    "from sklearn.model_selection import RandomizedSearchCV\n",
    "\n",
    "# defining parameter range\n",
    "param_grid = {'C': [1, 1.5, 2, 3, 5, 10, 12, 20],\n",
    "              'gamma': [0.002, 0.003, 0.004, 0.001],\n",
    "              'kernel': ['rbf']\n",
    "}\n",
    "\n",
    "grid = RandomizedSearchCV(SVC(random_state=32), param_grid, verbose = 100, \n",
    "    scoring='accuracy', cv=3, n_iter=25)\n",
    " \n",
    "# fitting the model for grid search\n",
    "grid.fit(X_train_fs, y_train)\n",
    "best_model = grid.best_estimator_"
   ]
  },
  {
   "cell_type": "code",
   "execution_count": 30,
   "id": "0ffcaa41",
   "metadata": {},
   "outputs": [
    {
     "name": "stdout",
     "output_type": "stream",
     "text": [
      "SVC(C=10, gamma=0.004, random_state=32)\n"
     ]
    }
   ],
   "source": [
    "print(best_model)"
   ]
  },
  {
   "cell_type": "code",
   "execution_count": 31,
   "id": "a4c67c1a",
   "metadata": {},
   "outputs": [],
   "source": [
    "y_pred = best_model.predict(X_test_fs)"
   ]
  },
  {
   "cell_type": "code",
   "execution_count": 32,
   "id": "6aad39ee",
   "metadata": {},
   "outputs": [],
   "source": [
    "submission = pd.DataFrame({'PassengerId':X_test.index ,'Transported': y_pred.astype(bool)},\n",
    "        columns=['PassengerId', 'Transported'])\n",
    "\n",
    "submission.to_csv(\"../submissions/submission_with_SelectKBest_SVC.csv\",index=False)"
   ]
  },
  {
   "cell_type": "code",
   "execution_count": null,
   "id": "f6244588",
   "metadata": {},
   "outputs": [],
   "source": []
  }
 ],
 "metadata": {
  "kernelspec": {
   "display_name": "Python 3 (ipykernel)",
   "language": "python",
   "name": "python3"
  },
  "language_info": {
   "codemirror_mode": {
    "name": "ipython",
    "version": 3
   },
   "file_extension": ".py",
   "mimetype": "text/x-python",
   "name": "python",
   "nbconvert_exporter": "python",
   "pygments_lexer": "ipython3",
   "version": "3.8.10"
  }
 },
 "nbformat": 4,
 "nbformat_minor": 5
}
