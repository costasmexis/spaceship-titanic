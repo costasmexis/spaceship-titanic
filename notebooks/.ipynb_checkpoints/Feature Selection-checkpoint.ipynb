{
 "cells": [
  {
   "cell_type": "markdown",
   "id": "6ee035eb",
   "metadata": {},
   "source": [
    "# Loading Basic Libraries"
   ]
  },
  {
   "cell_type": "code",
   "execution_count": 17,
   "id": "a2670afd",
   "metadata": {},
   "outputs": [],
   "source": [
    "import numpy as np\n",
    "import pandas as pd\n",
    "import matplotlib.pyplot as plt\n",
    "import seaborn as sns\n",
    "sns.set(style='darkgrid', font_scale=1.4)\n",
    "\n",
    "from sklearn.model_selection import train_test_split\n",
    "from sklearn.preprocessing import StandardScaler\n",
    "from sklearn.linear_model import LogisticRegression\n",
    "from sklearn.metrics import accuracy_score\n",
    "from sklearn.feature_selection import SelectKBest\n",
    "from sklearn.feature_selection import chi2"
   ]
  },
  {
   "cell_type": "markdown",
   "id": "82b3bd7a",
   "metadata": {},
   "source": [
    "# Load Dataset"
   ]
  },
  {
   "cell_type": "code",
   "execution_count": 8,
   "id": "6a35607e",
   "metadata": {},
   "outputs": [],
   "source": [
    "def load_dataset(filename):\n",
    "    df = pd.read_csv(filename)\n",
    "    df['Transported'] = df['Transported'].astype(int)\n",
    "    df = df.set_index('PassengerId')\n",
    "    X = df.drop(['Transported'],axis=1)\n",
    "    y = df['Transported']\n",
    "    return X, y"
   ]
  },
  {
   "cell_type": "code",
   "execution_count": 9,
   "id": "d7d3b9f5",
   "metadata": {},
   "outputs": [],
   "source": [
    "X, y = load_dataset('../data/data_train.csv')"
   ]
  },
  {
   "cell_type": "markdown",
   "id": "7e08ddec",
   "metadata": {},
   "source": [
    "# Split data"
   ]
  },
  {
   "cell_type": "code",
   "execution_count": 31,
   "id": "08a7b4ec",
   "metadata": {},
   "outputs": [],
   "source": [
    "X_train, X_valid, y_train, y_valid = train_test_split(X,y,stratify=y,test_size=0.2,random_state=0)"
   ]
  },
  {
   "cell_type": "markdown",
   "id": "d8114a8c",
   "metadata": {},
   "source": [
    "# Modelling"
   ]
  },
  {
   "cell_type": "code",
   "execution_count": 32,
   "id": "3412db0b",
   "metadata": {},
   "outputs": [],
   "source": [
    "def run(X_train, y_train, X_valid, y_valid):\n",
    "    scaler = StandardScaler()\n",
    "    X_train = scaler.fit_transform(X_train)\n",
    "    X_valid = scaler.transform(X_valid)\n",
    "\n",
    "    model = LogisticRegression()\n",
    "    model.fit(X_train, y_train)\n",
    "\n",
    "    y_pred = model.predict(X_valid)\n",
    "    print(\"Accuracy:\",accuracy_score(y_valid, y_pred))"
   ]
  },
  {
   "cell_type": "code",
   "execution_count": 33,
   "id": "86ba4f7c",
   "metadata": {},
   "outputs": [],
   "source": [
    "# feature selection\n",
    "def select_features(X_train, y_train, X_test, k):\n",
    "    fs = SelectKBest(score_func=chi2, k=k)\n",
    "    fs.fit(X_train, y_train)\n",
    "    X_train_fs = fs.transform(X_train)\n",
    "    X_test_fs = fs.transform(X_test)\n",
    "    return X_train_fs, X_test_fs, fs\n",
    "\n",
    "# X_train_fs, X_valid_fs, fs = select_features(X_train, y_train, X_valid, k)"
   ]
  },
  {
   "cell_type": "code",
   "execution_count": 34,
   "id": "56ce63df",
   "metadata": {},
   "outputs": [
    {
     "name": "stdout",
     "output_type": "stream",
     "text": [
      "k = 2\n",
      "Accuracy: 0.5968947671075331\n",
      "k = 3\n",
      "Accuracy: 0.6302472685451409\n",
      "k = 4\n",
      "Accuracy: 0.6906267970097757\n",
      "k = 5\n",
      "Accuracy: 0.7619321449108684\n",
      "k = 6\n",
      "Accuracy: 0.7636572742955722\n",
      "k = 7\n",
      "Accuracy: 0.7642323174238068\n",
      "k = 8\n",
      "Accuracy: 0.777458309373203\n",
      "k = 9\n",
      "Accuracy: 0.78205865439908\n",
      "k = 10\n",
      "Accuracy: 0.7797584818861415\n",
      "k = 11\n",
      "Accuracy: 0.7837837837837838\n",
      "k = 12\n",
      "Accuracy: 0.7832087406555491\n",
      "k = 13\n",
      "Accuracy: 0.7855089131684876\n",
      "k = 14\n",
      "Accuracy: 0.7866589994249569\n",
      "k = 15\n",
      "Accuracy: 0.7763082231167338\n",
      "k = 16\n",
      "Accuracy: 0.7722829212190915\n",
      "k = 17\n",
      "Accuracy: 0.7878090856814262\n",
      "k = 18\n",
      "Accuracy: 0.7912593444508338\n",
      "k = 19\n",
      "Accuracy: 0.7889591719378953\n",
      "k = 20\n",
      "Accuracy: 0.7924094307073031\n",
      "k = 21\n",
      "Accuracy: 0.7918343875790684\n",
      "k = 22\n",
      "Accuracy: 0.7918343875790684\n",
      "k = 23\n",
      "Accuracy: 0.7912593444508338\n",
      "k = 24\n",
      "Accuracy: 0.7912593444508338\n",
      "k = 25\n",
      "Accuracy: 0.7912593444508338\n",
      "k = 26\n",
      "Accuracy: 0.7889591719378953\n",
      "k = 27\n",
      "Accuracy: 0.7889591719378953\n",
      "k = 28\n",
      "Accuracy: 0.7883841288096607\n",
      "k = 29\n",
      "Accuracy: 0.7883841288096607\n",
      "k = 30\n",
      "Accuracy: 0.7878090856814262\n",
      "k = 31\n",
      "Accuracy: 0.78953421506613\n",
      "k = 32\n",
      "Accuracy: 0.7941345600920069\n",
      "k = 33\n",
      "Accuracy: 0.7947096032202415\n",
      "k = 34\n",
      "Accuracy: 0.7906843013225991\n",
      "k = 35\n",
      "Accuracy: 0.7906843013225991\n",
      "k = 36\n",
      "Accuracy: 0.7906843013225991\n"
     ]
    }
   ],
   "source": [
    "for k in range(2, X_df.shape[1]+1): \n",
    "    print(\"k =\",k)\n",
    "    X_train_fs, X_valid_fs, fs = select_features(X_train, y_train, X_valid, k)\n",
    "    run(X_train_fs, y_train, X_valid_fs, y_valid)"
   ]
  },
  {
   "cell_type": "code",
   "execution_count": 36,
   "id": "0ab35866",
   "metadata": {},
   "outputs": [
    {
     "name": "stdout",
     "output_type": "stream",
     "text": [
      "Accuracy: 0.7906843013225991\n"
     ]
    }
   ],
   "source": [
    "run(X_train, y_train, X_valid, y_valid)"
   ]
  },
  {
   "cell_type": "markdown",
   "id": "85c2f4c6",
   "metadata": {},
   "source": [
    "# Recursive Feature Elimination (`RFE`)"
   ]
  },
  {
   "cell_type": "code",
   "execution_count": 41,
   "id": "d97df366",
   "metadata": {},
   "outputs": [],
   "source": [
    "X=X_df\n",
    "y=y_df"
   ]
  },
  {
   "cell_type": "code",
   "execution_count": 45,
   "id": "4146542b",
   "metadata": {},
   "outputs": [],
   "source": [
    "X_train, X_valid, y_train, y_valid = train_test_split(X,y,stratify=y,test_size=0.3,random_state=0)"
   ]
  },
  {
   "cell_type": "code",
   "execution_count": 48,
   "id": "1dbe9186",
   "metadata": {
    "scrolled": true
   },
   "outputs": [
    {
     "name": "stderr",
     "output_type": "stream",
     "text": [
      "/home/comex/environments/ml/lib/python3.8/site-packages/sklearn/utils/validation.py:70: FutureWarning: Pass n_features_to_select=4 as keyword args. From version 1.0 (renaming of 0.25) passing these as positional arguments will result in an error\n",
      "  warnings.warn(f\"Pass {args_msg} as keyword args. From version \"\n"
     ]
    },
    {
     "name": "stdout",
     "output_type": "stream",
     "text": [
      "Num Features: 4\n",
      "Selected Features: [ True False False False False False False False False  True False False\n",
      " False False False False False False False False False False  True  True\n",
      " False False False False False False False False False False False False]\n"
     ]
    }
   ],
   "source": [
    "from sklearn.feature_selection import RFE\n",
    "\n",
    "model = LogisticRegression(max_iter=100000)\n",
    "rfe = RFE(model, 4)\n",
    "fit = rfe.fit(X_train, y_train)\n",
    "print(\"Num Features: %d\" % fit.n_features_)\n",
    "print(\"Selected Features: %s\" % fit.support_)"
   ]
  },
  {
   "cell_type": "code",
   "execution_count": null,
   "id": "ec5b8b84",
   "metadata": {},
   "outputs": [],
   "source": [
    "for k in range(2, X_df.shape[1]+1): \n",
    "    print(\"k =\",k)\n",
    "    kbest = SelectKBest(k=k)\n",
    "    fit = kbest.fit(X_df, y_df)\n",
    "    X = fit.transform(X_df)\n",
    "    y=y_df\n",
    "    X_train, X_valid, y_train, y_valid = train_test_split(X,y,stratify=y,\n",
    "                                                      test_size=0.3,random_state=0)\n",
    "    run(X_train, y_train, X_valid, y_valid)"
   ]
  },
  {
   "cell_type": "code",
   "execution_count": 49,
   "id": "defa699f",
   "metadata": {},
   "outputs": [
    {
     "name": "stdout",
     "output_type": "stream",
     "text": [
      "Accuracy: 0.7285276073619632\n"
     ]
    }
   ],
   "source": [
    "y_pred = fit.predict(X_valid)\n",
    "print(\"Accuracy:\",accuracy_score(y_valid, y_pred))"
   ]
  }
 ],
 "metadata": {
  "kernelspec": {
   "display_name": "Python 3 (ipykernel)",
   "language": "python",
   "name": "python3"
  },
  "language_info": {
   "codemirror_mode": {
    "name": "ipython",
    "version": 3
   },
   "file_extension": ".py",
   "mimetype": "text/x-python",
   "name": "python",
   "nbconvert_exporter": "python",
   "pygments_lexer": "ipython3",
   "version": "3.8.10"
  }
 },
 "nbformat": 4,
 "nbformat_minor": 5
}
