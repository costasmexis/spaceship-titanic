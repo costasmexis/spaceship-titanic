{
 "cells": [
  {
   "cell_type": "markdown",
   "id": "31e4b26e",
   "metadata": {},
   "source": [
    "__Feature descriptions:__\n",
    "\n",
    "- __PassengerId__ - A unique Id for each passenger. Each Id takes the form gggg_pp where gggg indicates a group the passenger is travelling with and pp is their number within the group. People in a group are often family members, but not always.\n",
    "\n",
    "- __HomePlanet__ - The planet the passenger departed from, typically their planet of permanent residence.\n",
    "\n",
    "- __CryoSleep__ - Indicates whether the passenger elected to be put into suspended animation for the duration of the voyage. Passengers in cryosleep are confined to their cabins.\n",
    "\n",
    "- __Cabin__ - The cabin number where the passenger is staying. Takes the form deck/num/side, where side can be either P for Port or S for Starboard.\n",
    "\n",
    "- __Destination__ - The planet the passenger will be debarking to.\n",
    "\n",
    "- __Age__ - The age of the passenger.\n",
    "\n",
    "- __VIP__ - Whether the passenger has paid for special VIP service during the voyage.\n",
    "\n",
    "- __RoomService__, __FoodCourt__, __ShoppingMall__, __Spa__, __VRDeck__ - Amount the passenger has billed at each of the Spaceship Titanic's many luxury amenities.\n",
    "\n",
    "- __Name__ - The first and last names of the passenger.\n",
    "\n",
    "- __Transported__ - Whether the passenger was transported to another dimension. This is the target, the column you are trying to predict."
   ]
  },
  {
   "cell_type": "markdown",
   "id": "4c9a8f9a",
   "metadata": {},
   "source": [
    "# Loading Basic Libraries"
   ]
  },
  {
   "cell_type": "code",
   "execution_count": 1,
   "id": "c5413808",
   "metadata": {},
   "outputs": [],
   "source": [
    "import numpy as np\n",
    "import pandas as pd\n",
    "import matplotlib.pyplot as plt\n",
    "import seaborn as sns\n",
    "sns.set(style='darkgrid', font_scale=1.4)"
   ]
  },
  {
   "cell_type": "markdown",
   "id": "19284be2",
   "metadata": {},
   "source": [
    "# Data Loading "
   ]
  },
  {
   "cell_type": "markdown",
   "id": "1ee6223d",
   "metadata": {},
   "source": [
    "## Loading Train and Test set"
   ]
  },
  {
   "cell_type": "code",
   "execution_count": 2,
   "id": "aaa7e706",
   "metadata": {},
   "outputs": [
    {
     "name": "stdout",
     "output_type": "stream",
     "text": [
      "Train set shape: (8693, 14)\n",
      "Test set shape: (4277, 13)\n"
     ]
    }
   ],
   "source": [
    "# Save to df\n",
    "train = pd.read_csv('spaceship-titanic/train.csv')\n",
    "test = pd.read_csv('spaceship-titanic/test.csv')\n",
    "\n",
    "# Shape and preview\n",
    "print('Train set shape:', train.shape)\n",
    "print('Test set shape:', test.shape)"
   ]
  },
  {
   "cell_type": "markdown",
   "id": "290acf5a",
   "metadata": {},
   "source": [
    "# First look at data "
   ]
  },
  {
   "cell_type": "code",
   "execution_count": 3,
   "id": "478402f3",
   "metadata": {},
   "outputs": [
    {
     "data": {
      "text/html": [
       "<div>\n",
       "<style scoped>\n",
       "    .dataframe tbody tr th:only-of-type {\n",
       "        vertical-align: middle;\n",
       "    }\n",
       "\n",
       "    .dataframe tbody tr th {\n",
       "        vertical-align: top;\n",
       "    }\n",
       "\n",
       "    .dataframe thead th {\n",
       "        text-align: right;\n",
       "    }\n",
       "</style>\n",
       "<table border=\"1\" class=\"dataframe\">\n",
       "  <thead>\n",
       "    <tr style=\"text-align: right;\">\n",
       "      <th></th>\n",
       "      <th>PassengerId</th>\n",
       "      <th>HomePlanet</th>\n",
       "      <th>CryoSleep</th>\n",
       "      <th>Cabin</th>\n",
       "      <th>Destination</th>\n",
       "      <th>Age</th>\n",
       "      <th>VIP</th>\n",
       "      <th>RoomService</th>\n",
       "      <th>FoodCourt</th>\n",
       "      <th>ShoppingMall</th>\n",
       "      <th>Spa</th>\n",
       "      <th>VRDeck</th>\n",
       "      <th>Name</th>\n",
       "      <th>Transported</th>\n",
       "    </tr>\n",
       "  </thead>\n",
       "  <tbody>\n",
       "    <tr>\n",
       "      <th>0</th>\n",
       "      <td>0001_01</td>\n",
       "      <td>Europa</td>\n",
       "      <td>False</td>\n",
       "      <td>B/0/P</td>\n",
       "      <td>TRAPPIST-1e</td>\n",
       "      <td>39.0</td>\n",
       "      <td>False</td>\n",
       "      <td>0.0</td>\n",
       "      <td>0.0</td>\n",
       "      <td>0.0</td>\n",
       "      <td>0.0</td>\n",
       "      <td>0.0</td>\n",
       "      <td>Maham Ofracculy</td>\n",
       "      <td>False</td>\n",
       "    </tr>\n",
       "    <tr>\n",
       "      <th>1</th>\n",
       "      <td>0002_01</td>\n",
       "      <td>Earth</td>\n",
       "      <td>False</td>\n",
       "      <td>F/0/S</td>\n",
       "      <td>TRAPPIST-1e</td>\n",
       "      <td>24.0</td>\n",
       "      <td>False</td>\n",
       "      <td>109.0</td>\n",
       "      <td>9.0</td>\n",
       "      <td>25.0</td>\n",
       "      <td>549.0</td>\n",
       "      <td>44.0</td>\n",
       "      <td>Juanna Vines</td>\n",
       "      <td>True</td>\n",
       "    </tr>\n",
       "    <tr>\n",
       "      <th>2</th>\n",
       "      <td>0003_01</td>\n",
       "      <td>Europa</td>\n",
       "      <td>False</td>\n",
       "      <td>A/0/S</td>\n",
       "      <td>TRAPPIST-1e</td>\n",
       "      <td>58.0</td>\n",
       "      <td>True</td>\n",
       "      <td>43.0</td>\n",
       "      <td>3576.0</td>\n",
       "      <td>0.0</td>\n",
       "      <td>6715.0</td>\n",
       "      <td>49.0</td>\n",
       "      <td>Altark Susent</td>\n",
       "      <td>False</td>\n",
       "    </tr>\n",
       "  </tbody>\n",
       "</table>\n",
       "</div>"
      ],
      "text/plain": [
       "  PassengerId HomePlanet CryoSleep  Cabin  Destination   Age    VIP  \\\n",
       "0     0001_01     Europa     False  B/0/P  TRAPPIST-1e  39.0  False   \n",
       "1     0002_01      Earth     False  F/0/S  TRAPPIST-1e  24.0  False   \n",
       "2     0003_01     Europa     False  A/0/S  TRAPPIST-1e  58.0   True   \n",
       "\n",
       "   RoomService  FoodCourt  ShoppingMall     Spa  VRDeck             Name  \\\n",
       "0          0.0        0.0           0.0     0.0     0.0  Maham Ofracculy   \n",
       "1        109.0        9.0          25.0   549.0    44.0     Juanna Vines   \n",
       "2         43.0     3576.0           0.0  6715.0    49.0    Altark Susent   \n",
       "\n",
       "   Transported  \n",
       "0        False  \n",
       "1         True  \n",
       "2        False  "
      ]
     },
     "execution_count": 3,
     "metadata": {},
     "output_type": "execute_result"
    }
   ],
   "source": [
    "train.head(3)"
   ]
  },
  {
   "cell_type": "code",
   "execution_count": 4,
   "id": "36627675",
   "metadata": {
    "scrolled": false
   },
   "outputs": [
    {
     "name": "stdout",
     "output_type": "stream",
     "text": [
      "<class 'pandas.core.frame.DataFrame'>\n",
      "RangeIndex: 8693 entries, 0 to 8692\n",
      "Data columns (total 14 columns):\n",
      " #   Column        Non-Null Count  Dtype  \n",
      "---  ------        --------------  -----  \n",
      " 0   PassengerId   8693 non-null   object \n",
      " 1   HomePlanet    8492 non-null   object \n",
      " 2   CryoSleep     8476 non-null   object \n",
      " 3   Cabin         8494 non-null   object \n",
      " 4   Destination   8511 non-null   object \n",
      " 5   Age           8514 non-null   float64\n",
      " 6   VIP           8490 non-null   object \n",
      " 7   RoomService   8512 non-null   float64\n",
      " 8   FoodCourt     8510 non-null   float64\n",
      " 9   ShoppingMall  8485 non-null   float64\n",
      " 10  Spa           8510 non-null   float64\n",
      " 11  VRDeck        8505 non-null   float64\n",
      " 12  Name          8493 non-null   object \n",
      " 13  Transported   8693 non-null   bool   \n",
      "dtypes: bool(1), float64(6), object(7)\n",
      "memory usage: 891.5+ KB\n"
     ]
    }
   ],
   "source": [
    "train.info()"
   ]
  },
  {
   "cell_type": "code",
   "execution_count": 5,
   "id": "27334685",
   "metadata": {},
   "outputs": [
    {
     "data": {
      "text/html": [
       "<div>\n",
       "<style scoped>\n",
       "    .dataframe tbody tr th:only-of-type {\n",
       "        vertical-align: middle;\n",
       "    }\n",
       "\n",
       "    .dataframe tbody tr th {\n",
       "        vertical-align: top;\n",
       "    }\n",
       "\n",
       "    .dataframe thead th {\n",
       "        text-align: right;\n",
       "    }\n",
       "</style>\n",
       "<table border=\"1\" class=\"dataframe\">\n",
       "  <thead>\n",
       "    <tr style=\"text-align: right;\">\n",
       "      <th></th>\n",
       "      <th>count</th>\n",
       "      <th>mean</th>\n",
       "      <th>std</th>\n",
       "      <th>min</th>\n",
       "      <th>25%</th>\n",
       "      <th>50%</th>\n",
       "      <th>75%</th>\n",
       "      <th>max</th>\n",
       "    </tr>\n",
       "  </thead>\n",
       "  <tbody>\n",
       "    <tr>\n",
       "      <th>Age</th>\n",
       "      <td>8514.0</td>\n",
       "      <td>28.827930</td>\n",
       "      <td>14.489021</td>\n",
       "      <td>0.0</td>\n",
       "      <td>19.0</td>\n",
       "      <td>27.0</td>\n",
       "      <td>38.0</td>\n",
       "      <td>79.0</td>\n",
       "    </tr>\n",
       "    <tr>\n",
       "      <th>RoomService</th>\n",
       "      <td>8512.0</td>\n",
       "      <td>224.687617</td>\n",
       "      <td>666.717663</td>\n",
       "      <td>0.0</td>\n",
       "      <td>0.0</td>\n",
       "      <td>0.0</td>\n",
       "      <td>47.0</td>\n",
       "      <td>14327.0</td>\n",
       "    </tr>\n",
       "    <tr>\n",
       "      <th>FoodCourt</th>\n",
       "      <td>8510.0</td>\n",
       "      <td>458.077203</td>\n",
       "      <td>1611.489240</td>\n",
       "      <td>0.0</td>\n",
       "      <td>0.0</td>\n",
       "      <td>0.0</td>\n",
       "      <td>76.0</td>\n",
       "      <td>29813.0</td>\n",
       "    </tr>\n",
       "    <tr>\n",
       "      <th>ShoppingMall</th>\n",
       "      <td>8485.0</td>\n",
       "      <td>173.729169</td>\n",
       "      <td>604.696458</td>\n",
       "      <td>0.0</td>\n",
       "      <td>0.0</td>\n",
       "      <td>0.0</td>\n",
       "      <td>27.0</td>\n",
       "      <td>23492.0</td>\n",
       "    </tr>\n",
       "    <tr>\n",
       "      <th>Spa</th>\n",
       "      <td>8510.0</td>\n",
       "      <td>311.138778</td>\n",
       "      <td>1136.705535</td>\n",
       "      <td>0.0</td>\n",
       "      <td>0.0</td>\n",
       "      <td>0.0</td>\n",
       "      <td>59.0</td>\n",
       "      <td>22408.0</td>\n",
       "    </tr>\n",
       "    <tr>\n",
       "      <th>VRDeck</th>\n",
       "      <td>8505.0</td>\n",
       "      <td>304.854791</td>\n",
       "      <td>1145.717189</td>\n",
       "      <td>0.0</td>\n",
       "      <td>0.0</td>\n",
       "      <td>0.0</td>\n",
       "      <td>46.0</td>\n",
       "      <td>24133.0</td>\n",
       "    </tr>\n",
       "  </tbody>\n",
       "</table>\n",
       "</div>"
      ],
      "text/plain": [
       "               count        mean          std  min   25%   50%   75%      max\n",
       "Age           8514.0   28.827930    14.489021  0.0  19.0  27.0  38.0     79.0\n",
       "RoomService   8512.0  224.687617   666.717663  0.0   0.0   0.0  47.0  14327.0\n",
       "FoodCourt     8510.0  458.077203  1611.489240  0.0   0.0   0.0  76.0  29813.0\n",
       "ShoppingMall  8485.0  173.729169   604.696458  0.0   0.0   0.0  27.0  23492.0\n",
       "Spa           8510.0  311.138778  1136.705535  0.0   0.0   0.0  59.0  22408.0\n",
       "VRDeck        8505.0  304.854791  1145.717189  0.0   0.0   0.0  46.0  24133.0"
      ]
     },
     "execution_count": 5,
     "metadata": {},
     "output_type": "execute_result"
    }
   ],
   "source": [
    "# features with float64 type\n",
    "train.describe(include=[\"float64\"]).T"
   ]
  },
  {
   "cell_type": "code",
   "execution_count": 6,
   "id": "0b0dd84d",
   "metadata": {},
   "outputs": [
    {
     "data": {
      "text/html": [
       "<div>\n",
       "<style scoped>\n",
       "    .dataframe tbody tr th:only-of-type {\n",
       "        vertical-align: middle;\n",
       "    }\n",
       "\n",
       "    .dataframe tbody tr th {\n",
       "        vertical-align: top;\n",
       "    }\n",
       "\n",
       "    .dataframe thead th {\n",
       "        text-align: right;\n",
       "    }\n",
       "</style>\n",
       "<table border=\"1\" class=\"dataframe\">\n",
       "  <thead>\n",
       "    <tr style=\"text-align: right;\">\n",
       "      <th></th>\n",
       "      <th>count</th>\n",
       "      <th>unique</th>\n",
       "      <th>top</th>\n",
       "      <th>freq</th>\n",
       "    </tr>\n",
       "  </thead>\n",
       "  <tbody>\n",
       "    <tr>\n",
       "      <th>PassengerId</th>\n",
       "      <td>8693</td>\n",
       "      <td>8693</td>\n",
       "      <td>6171_01</td>\n",
       "      <td>1</td>\n",
       "    </tr>\n",
       "    <tr>\n",
       "      <th>HomePlanet</th>\n",
       "      <td>8492</td>\n",
       "      <td>3</td>\n",
       "      <td>Earth</td>\n",
       "      <td>4602</td>\n",
       "    </tr>\n",
       "    <tr>\n",
       "      <th>CryoSleep</th>\n",
       "      <td>8476</td>\n",
       "      <td>2</td>\n",
       "      <td>False</td>\n",
       "      <td>5439</td>\n",
       "    </tr>\n",
       "    <tr>\n",
       "      <th>Cabin</th>\n",
       "      <td>8494</td>\n",
       "      <td>6560</td>\n",
       "      <td>G/734/S</td>\n",
       "      <td>8</td>\n",
       "    </tr>\n",
       "    <tr>\n",
       "      <th>Destination</th>\n",
       "      <td>8511</td>\n",
       "      <td>3</td>\n",
       "      <td>TRAPPIST-1e</td>\n",
       "      <td>5915</td>\n",
       "    </tr>\n",
       "    <tr>\n",
       "      <th>VIP</th>\n",
       "      <td>8490</td>\n",
       "      <td>2</td>\n",
       "      <td>False</td>\n",
       "      <td>8291</td>\n",
       "    </tr>\n",
       "    <tr>\n",
       "      <th>Name</th>\n",
       "      <td>8493</td>\n",
       "      <td>8473</td>\n",
       "      <td>Cuses Pread</td>\n",
       "      <td>2</td>\n",
       "    </tr>\n",
       "    <tr>\n",
       "      <th>Transported</th>\n",
       "      <td>8693</td>\n",
       "      <td>2</td>\n",
       "      <td>True</td>\n",
       "      <td>4378</td>\n",
       "    </tr>\n",
       "  </tbody>\n",
       "</table>\n",
       "</div>"
      ],
      "text/plain": [
       "            count unique          top  freq\n",
       "PassengerId  8693   8693      6171_01     1\n",
       "HomePlanet   8492      3        Earth  4602\n",
       "CryoSleep    8476      2        False  5439\n",
       "Cabin        8494   6560      G/734/S     8\n",
       "Destination  8511      3  TRAPPIST-1e  5915\n",
       "VIP          8490      2        False  8291\n",
       "Name         8493   8473  Cuses Pread     2\n",
       "Transported  8693      2         True  4378"
      ]
     },
     "execution_count": 6,
     "metadata": {},
     "output_type": "execute_result"
    }
   ],
   "source": [
    "#features with object and bool types\n",
    "train.describe(include=[object,bool]).T"
   ]
  },
  {
   "cell_type": "markdown",
   "id": "8366eb84",
   "metadata": {},
   "source": [
    "# Checking for duplicates"
   ]
  },
  {
   "cell_type": "code",
   "execution_count": 7,
   "id": "0701be9d",
   "metadata": {},
   "outputs": [],
   "source": [
    "def check_duplicates(df):\n",
    "    duplicate = df[df.duplicated()]\n",
    "    \n",
    "    if duplicate.empty:\n",
    "        print('No duplicate rows!')\n",
    "    else:\n",
    "        print(\"Duplicate Rows :\")\n",
    "        duplicate    "
   ]
  },
  {
   "cell_type": "code",
   "execution_count": 8,
   "id": "8257455e",
   "metadata": {},
   "outputs": [
    {
     "name": "stdout",
     "output_type": "stream",
     "text": [
      "No duplicate rows!\n",
      "No duplicate rows!\n"
     ]
    }
   ],
   "source": [
    "# on train set\n",
    "check_duplicates(train)\n",
    "\n",
    "# on test set\n",
    "check_duplicates(test)"
   ]
  },
  {
   "cell_type": "markdown",
   "id": "fa5b4ff7",
   "metadata": {},
   "source": [
    "# Missing Values "
   ]
  },
  {
   "cell_type": "code",
   "execution_count": 9,
   "id": "01d3e463",
   "metadata": {},
   "outputs": [
    {
     "name": "stdout",
     "output_type": "stream",
     "text": [
      " Missing Data on train set:  2,324 Values\n",
      "\n",
      " Missing Data on test set:  1,117 Values\n",
      "\n"
     ]
    }
   ],
   "source": [
    "# Checking the total amount of empty values in the dataset\n",
    "print(f' Missing Data on train set: {train.isnull().sum().sum(): 5,.0f} Values')\n",
    "print('')\n",
    "\n",
    "print(f' Missing Data on test set: {test.isnull().sum().sum(): 5,.0f} Values')\n",
    "print('')"
   ]
  },
  {
   "cell_type": "code",
   "execution_count": 10,
   "id": "d65d0ade",
   "metadata": {},
   "outputs": [
    {
     "data": {
      "text/html": [
       "<div>\n",
       "<style scoped>\n",
       "    .dataframe tbody tr th:only-of-type {\n",
       "        vertical-align: middle;\n",
       "    }\n",
       "\n",
       "    .dataframe tbody tr th {\n",
       "        vertical-align: top;\n",
       "    }\n",
       "\n",
       "    .dataframe thead th {\n",
       "        text-align: right;\n",
       "    }\n",
       "</style>\n",
       "<table border=\"1\" class=\"dataframe\">\n",
       "  <thead>\n",
       "    <tr style=\"text-align: right;\">\n",
       "      <th></th>\n",
       "      <th>NaN_sum</th>\n",
       "      <th>Percentage(%)</th>\n",
       "      <th>Type</th>\n",
       "    </tr>\n",
       "  </thead>\n",
       "  <tbody>\n",
       "    <tr>\n",
       "      <th>Age</th>\n",
       "      <td>179</td>\n",
       "      <td>2.059128</td>\n",
       "      <td>float64</td>\n",
       "    </tr>\n",
       "    <tr>\n",
       "      <th>RoomService</th>\n",
       "      <td>181</td>\n",
       "      <td>2.082135</td>\n",
       "      <td>float64</td>\n",
       "    </tr>\n",
       "    <tr>\n",
       "      <th>Destination</th>\n",
       "      <td>182</td>\n",
       "      <td>2.093639</td>\n",
       "      <td>object</td>\n",
       "    </tr>\n",
       "    <tr>\n",
       "      <th>FoodCourt</th>\n",
       "      <td>183</td>\n",
       "      <td>2.105142</td>\n",
       "      <td>float64</td>\n",
       "    </tr>\n",
       "    <tr>\n",
       "      <th>Spa</th>\n",
       "      <td>183</td>\n",
       "      <td>2.105142</td>\n",
       "      <td>float64</td>\n",
       "    </tr>\n",
       "    <tr>\n",
       "      <th>VRDeck</th>\n",
       "      <td>188</td>\n",
       "      <td>2.162660</td>\n",
       "      <td>float64</td>\n",
       "    </tr>\n",
       "    <tr>\n",
       "      <th>Cabin</th>\n",
       "      <td>199</td>\n",
       "      <td>2.289198</td>\n",
       "      <td>object</td>\n",
       "    </tr>\n",
       "    <tr>\n",
       "      <th>Name</th>\n",
       "      <td>200</td>\n",
       "      <td>2.300702</td>\n",
       "      <td>object</td>\n",
       "    </tr>\n",
       "    <tr>\n",
       "      <th>HomePlanet</th>\n",
       "      <td>201</td>\n",
       "      <td>2.312205</td>\n",
       "      <td>object</td>\n",
       "    </tr>\n",
       "    <tr>\n",
       "      <th>VIP</th>\n",
       "      <td>203</td>\n",
       "      <td>2.335212</td>\n",
       "      <td>object</td>\n",
       "    </tr>\n",
       "    <tr>\n",
       "      <th>ShoppingMall</th>\n",
       "      <td>208</td>\n",
       "      <td>2.392730</td>\n",
       "      <td>float64</td>\n",
       "    </tr>\n",
       "    <tr>\n",
       "      <th>CryoSleep</th>\n",
       "      <td>217</td>\n",
       "      <td>2.496261</td>\n",
       "      <td>object</td>\n",
       "    </tr>\n",
       "  </tbody>\n",
       "</table>\n",
       "</div>"
      ],
      "text/plain": [
       "              NaN_sum  Percentage(%)     Type\n",
       "Age               179       2.059128  float64\n",
       "RoomService       181       2.082135  float64\n",
       "Destination       182       2.093639   object\n",
       "FoodCourt         183       2.105142  float64\n",
       "Spa               183       2.105142  float64\n",
       "VRDeck            188       2.162660  float64\n",
       "Cabin             199       2.289198   object\n",
       "Name              200       2.300702   object\n",
       "HomePlanet        201       2.312205   object\n",
       "VIP               203       2.335212   object\n",
       "ShoppingMall      208       2.392730  float64\n",
       "CryoSleep         217       2.496261   object"
      ]
     },
     "execution_count": 10,
     "metadata": {},
     "output_type": "execute_result"
    }
   ],
   "source": [
    "# Looking at NaN % within the train data\n",
    "nan = pd.DataFrame(train.isna().sum(), columns = ['NaN_sum'])\n",
    "nan['Percentage(%)'] = (nan['NaN_sum']/len(train))*100\n",
    "# nan['Type'] = nan.index.dtype()\n",
    "nan = nan[nan['NaN_sum'] > 0]\n",
    "nan = nan.sort_values(by = ['NaN_sum'])\n",
    "\n",
    "types = []\n",
    "for i in nan.index: \n",
    "    types.append(train[i].dtype)\n",
    "\n",
    "nan['Type'] = types\n",
    "\n",
    "nan"
   ]
  },
  {
   "cell_type": "code",
   "execution_count": 11,
   "id": "8ec8feb1",
   "metadata": {},
   "outputs": [
    {
     "data": {
      "text/html": [
       "<div>\n",
       "<style scoped>\n",
       "    .dataframe tbody tr th:only-of-type {\n",
       "        vertical-align: middle;\n",
       "    }\n",
       "\n",
       "    .dataframe tbody tr th {\n",
       "        vertical-align: top;\n",
       "    }\n",
       "\n",
       "    .dataframe thead th {\n",
       "        text-align: right;\n",
       "    }\n",
       "</style>\n",
       "<table border=\"1\" class=\"dataframe\">\n",
       "  <thead>\n",
       "    <tr style=\"text-align: right;\">\n",
       "      <th></th>\n",
       "      <th>NaN_sum</th>\n",
       "      <th>Percentage(%)</th>\n",
       "      <th>Type</th>\n",
       "    </tr>\n",
       "  </thead>\n",
       "  <tbody>\n",
       "    <tr>\n",
       "      <th>VRDeck</th>\n",
       "      <td>80</td>\n",
       "      <td>1.870470</td>\n",
       "      <td>float64</td>\n",
       "    </tr>\n",
       "    <tr>\n",
       "      <th>RoomService</th>\n",
       "      <td>82</td>\n",
       "      <td>1.917232</td>\n",
       "      <td>float64</td>\n",
       "    </tr>\n",
       "    <tr>\n",
       "      <th>HomePlanet</th>\n",
       "      <td>87</td>\n",
       "      <td>2.034136</td>\n",
       "      <td>object</td>\n",
       "    </tr>\n",
       "    <tr>\n",
       "      <th>Age</th>\n",
       "      <td>91</td>\n",
       "      <td>2.127660</td>\n",
       "      <td>float64</td>\n",
       "    </tr>\n",
       "    <tr>\n",
       "      <th>Destination</th>\n",
       "      <td>92</td>\n",
       "      <td>2.151040</td>\n",
       "      <td>object</td>\n",
       "    </tr>\n",
       "    <tr>\n",
       "      <th>CryoSleep</th>\n",
       "      <td>93</td>\n",
       "      <td>2.174421</td>\n",
       "      <td>object</td>\n",
       "    </tr>\n",
       "    <tr>\n",
       "      <th>VIP</th>\n",
       "      <td>93</td>\n",
       "      <td>2.174421</td>\n",
       "      <td>object</td>\n",
       "    </tr>\n",
       "    <tr>\n",
       "      <th>Name</th>\n",
       "      <td>94</td>\n",
       "      <td>2.197802</td>\n",
       "      <td>object</td>\n",
       "    </tr>\n",
       "    <tr>\n",
       "      <th>ShoppingMall</th>\n",
       "      <td>98</td>\n",
       "      <td>2.291326</td>\n",
       "      <td>float64</td>\n",
       "    </tr>\n",
       "    <tr>\n",
       "      <th>Cabin</th>\n",
       "      <td>100</td>\n",
       "      <td>2.338087</td>\n",
       "      <td>object</td>\n",
       "    </tr>\n",
       "    <tr>\n",
       "      <th>Spa</th>\n",
       "      <td>101</td>\n",
       "      <td>2.361468</td>\n",
       "      <td>float64</td>\n",
       "    </tr>\n",
       "    <tr>\n",
       "      <th>FoodCourt</th>\n",
       "      <td>106</td>\n",
       "      <td>2.478373</td>\n",
       "      <td>float64</td>\n",
       "    </tr>\n",
       "  </tbody>\n",
       "</table>\n",
       "</div>"
      ],
      "text/plain": [
       "              NaN_sum  Percentage(%)     Type\n",
       "VRDeck             80       1.870470  float64\n",
       "RoomService        82       1.917232  float64\n",
       "HomePlanet         87       2.034136   object\n",
       "Age                91       2.127660  float64\n",
       "Destination        92       2.151040   object\n",
       "CryoSleep          93       2.174421   object\n",
       "VIP                93       2.174421   object\n",
       "Name               94       2.197802   object\n",
       "ShoppingMall       98       2.291326  float64\n",
       "Cabin             100       2.338087   object\n",
       "Spa               101       2.361468  float64\n",
       "FoodCourt         106       2.478373  float64"
      ]
     },
     "execution_count": 11,
     "metadata": {},
     "output_type": "execute_result"
    }
   ],
   "source": [
    "# Looking at NaN % within the test data\n",
    "nan = pd.DataFrame(test.isna().sum(), columns = ['NaN_sum'])\n",
    "nan['Percentage(%)'] = (nan['NaN_sum']/len(test))*100\n",
    "# nan['Type'] = nan.index.dtype()\n",
    "nan = nan[nan['NaN_sum'] > 0]\n",
    "nan = nan.sort_values(by = ['NaN_sum'])\n",
    "\n",
    "types = []\n",
    "for i in nan.index: \n",
    "    types.append(test[i].dtype)\n",
    "\n",
    "nan['Type'] = types\n",
    "\n",
    "nan"
   ]
  },
  {
   "cell_type": "markdown",
   "id": "14256ed4",
   "metadata": {},
   "source": [
    "# Studying numerical features "
   ]
  },
  {
   "cell_type": "markdown",
   "id": "78378f68",
   "metadata": {},
   "source": [
    "The numerical features are:"
   ]
  },
  {
   "cell_type": "code",
   "execution_count": 12,
   "id": "eb83451a",
   "metadata": {},
   "outputs": [
    {
     "data": {
      "text/plain": [
       "array(['Age', 'RoomService', 'FoodCourt', 'ShoppingMall', 'Spa', 'VRDeck'],\n",
       "      dtype=object)"
      ]
     },
     "execution_count": 12,
     "metadata": {},
     "output_type": "execute_result"
    }
   ],
   "source": [
    "train.describe(include=[\"float64\"]).T.index.values"
   ]
  },
  {
   "cell_type": "markdown",
   "id": "9db251a3",
   "metadata": {},
   "source": [
    "# `Age`"
   ]
  },
  {
   "cell_type": "code",
   "execution_count": 13,
   "id": "e1e302c8",
   "metadata": {},
   "outputs": [
    {
     "data": {
      "image/png": "[encoded data removed]",
      "text/plain": [
       "<Figure size 3240x720 with 1 Axes>"
      ]
     },
     "metadata": {},
     "output_type": "display_data"
    }
   ],
   "source": [
    "# Plot distribution of new features\n",
    "plt.figure(figsize=(45, 10))\n",
    "\n",
    "g=sns.countplot(data=train, x='Age', hue='Transported')\n",
    "plt.title('Age distribution')\n",
    "plt.show()"
   ]
  },
  {
   "cell_type": "markdown",
   "id": "faf396d0",
   "metadata": {},
   "source": [
    "## Create `Age_group` feature"
   ]
  },
  {
   "cell_type": "code",
   "execution_count": 14,
   "id": "d056ab01",
   "metadata": {},
   "outputs": [],
   "source": [
    "train['Age_group'] = np.nan\n",
    "\n",
    "train.loc[train['Age']<= 18, 'Age_group'] = 'Age_0-18'\n",
    "train.loc[(train['Age'] > 18) & (train['Age'] <= 36), 'Age_group'] = 'Age_19-36'\n",
    "train.loc[(train['Age'] > 36) & (train['Age'] <= 50), 'Age_group'] = 'Age_37-50'\n",
    "train.loc[train['Age'] > 50, 'Age_group'] = 'Age_50+'"
   ]
  },
  {
   "cell_type": "code",
   "execution_count": 15,
   "id": "e7f589ff",
   "metadata": {},
   "outputs": [
    {
     "data": {
      "image/png": "[encoded data removed]",
      "text/plain": [
       "<Figure size 720x288 with 1 Axes>"
      ]
     },
     "metadata": {},
     "output_type": "display_data"
    }
   ],
   "source": [
    "# Plot distribution of new features\n",
    "plt.figure(figsize=(10,4))\n",
    "\n",
    "g=sns.countplot(data=train, x='Age_group', hue='Transported', order=['Age_0-18','Age_19-36','Age_37-50','Age_50+'])\n",
    "plt.title('Age group distribution')\n",
    "plt.show()"
   ]
  },
  {
   "cell_type": "markdown",
   "id": "a4f46b93",
   "metadata": {},
   "source": [
    "Age group 0-18 seems to be transported more often that the rest."
   ]
  },
  {
   "cell_type": "markdown",
   "id": "3b135076",
   "metadata": {},
   "source": [
    "## Create a feature with total expences for each passenger"
   ]
  },
  {
   "cell_type": "code",
   "execution_count": 16,
   "id": "769e6417",
   "metadata": {},
   "outputs": [],
   "source": [
    "expences = ['RoomService', 'FoodCourt', 'ShoppingMall', 'Spa', 'VRDeck']\n",
    "\n",
    "train['Total_expences'] = train[expences].sum(axis=1)"
   ]
  },
  {
   "cell_type": "markdown",
   "id": "9023fa7a",
   "metadata": {},
   "source": [
    "How many passengers did not spend anything?"
   ]
  },
  {
   "cell_type": "code",
   "execution_count": 17,
   "id": "0361aa2d",
   "metadata": {},
   "outputs": [
    {
     "name": "stdout",
     "output_type": "stream",
     "text": [
      "3653 passengers did not spend anything.\n"
     ]
    }
   ],
   "source": [
    "print(train['Total_expences'][train['Total_expences'] == 0].count(), \"passengers did not spend anything.\")"
   ]
  },
  {
   "cell_type": "markdown",
   "id": "b7ddf8c0",
   "metadata": {},
   "source": [
    "## Create a feature describing if the current passenger spend anything or not"
   ]
  },
  {
   "cell_type": "code",
   "execution_count": 18,
   "id": "16fc5597",
   "metadata": {},
   "outputs": [],
   "source": [
    "train['No_spending'] = (train['Total_expences']==0).astype(int)"
   ]
  },
  {
   "cell_type": "code",
   "execution_count": 19,
   "id": "18e08791",
   "metadata": {},
   "outputs": [
    {
     "data": {
      "image/png": "[encoded data removed]",
      "text/plain": [
       "<Figure size 720x288 with 1 Axes>"
      ]
     },
     "metadata": {},
     "output_type": "display_data"
    }
   ],
   "source": [
    "plt.figure(figsize=(10,4))\n",
    "\n",
    "sns.countplot(data=train, x='No_spending', hue='Transported')\n",
    "plt.title('No spending indicator')\n",
    "plt.show()"
   ]
  },
  {
   "cell_type": "markdown",
   "id": "d5cc679a",
   "metadata": {},
   "source": [
    "Passengers that did not spend anything seems to be transported more often."
   ]
  },
  {
   "cell_type": "markdown",
   "id": "93962c59",
   "metadata": {},
   "source": [
    "# Studying categorical data"
   ]
  },
  {
   "cell_type": "markdown",
   "id": "9093c878",
   "metadata": {},
   "source": [
    "## `PassengerId`"
   ]
  },
  {
   "cell_type": "markdown",
   "id": "514a42f7",
   "metadata": {},
   "source": [
    "Extract passenger group and group size from PassengerId."
   ]
  },
  {
   "cell_type": "code",
   "execution_count": 20,
   "id": "d2095d41",
   "metadata": {},
   "outputs": [],
   "source": [
    "train['Group'] = train['PassengerId'].apply(lambda x: x.split('_')[0]).astype(int)\n",
    "train['Group_size'] = train['PassengerId'].apply(lambda x: x.split('_')[1]).astype(int)"
   ]
  },
  {
   "cell_type": "code",
   "execution_count": 21,
   "id": "f3667796",
   "metadata": {},
   "outputs": [
    {
     "name": "stdout",
     "output_type": "stream",
     "text": [
      "count    8693.000000\n",
      "mean     4633.389624\n",
      "std      2671.028856\n",
      "min         1.000000\n",
      "25%      2319.000000\n",
      "50%      4630.000000\n",
      "75%      6883.000000\n",
      "max      9280.000000\n",
      "Name: Group, dtype: float64\n",
      "\n",
      "How many unique Groups:  6217\n"
     ]
    }
   ],
   "source": [
    "print(train['Group'].describe())\n",
    "\n",
    "print('\\nHow many unique Groups: ', train['Group'].nunique())"
   ]
  },
  {
   "cell_type": "markdown",
   "id": "6c096683",
   "metadata": {},
   "source": [
    "The `Group` feature doesn't seem to be usefull, so it will be droped later."
   ]
  },
  {
   "cell_type": "code",
   "execution_count": 22,
   "id": "51833dfb",
   "metadata": {},
   "outputs": [
    {
     "data": {
      "image/png": "[encoded data removed]",
      "text/plain": [
       "<Figure size 432x288 with 1 Axes>"
      ]
     },
     "metadata": {},
     "output_type": "display_data"
    }
   ],
   "source": [
    "sns.countplot(data=train, x='Group_size', hue='Transported')\n",
    "plt.title('Group size')\n",
    "plt.show()"
   ]
  },
  {
   "cell_type": "markdown",
   "id": "04132540",
   "metadata": {},
   "source": [
    "Most passengers are travelling alone. We will create a feature `Solo` indicating if the passenger is travelling alone."
   ]
  },
  {
   "cell_type": "markdown",
   "id": "fc890e06",
   "metadata": {},
   "source": [
    "## Feature `Solo` indicates if the passenger is travelling alone"
   ]
  },
  {
   "cell_type": "code",
   "execution_count": 23,
   "id": "fea1b5e9",
   "metadata": {},
   "outputs": [],
   "source": [
    "train['Solo'] = (train['Group_size'] == 1).astype(int)"
   ]
  },
  {
   "cell_type": "code",
   "execution_count": 24,
   "id": "8f5ce9f9",
   "metadata": {},
   "outputs": [
    {
     "data": {
      "image/png": "[encoded data removed]",
      "text/plain": [
       "<Figure size 432x288 with 1 Axes>"
      ]
     },
     "metadata": {},
     "output_type": "display_data"
    }
   ],
   "source": [
    "sns.countplot(data=train, x='Solo', hue='Transported')\n",
    "plt.title('Solo or not')\n",
    "plt.show()"
   ]
  },
  {
   "cell_type": "markdown",
   "id": "79a09926",
   "metadata": {},
   "source": [
    "## `Cabin`"
   ]
  },
  {
   "cell_type": "markdown",
   "id": "c4028b4a",
   "metadata": {},
   "source": [
    "Fill _Nan_ in `Cabin` for now, in order to apply feature engineering techniques. We will fill _NaNs_ with outliers."
   ]
  },
  {
   "cell_type": "code",
   "execution_count": 25,
   "id": "d5ea3776",
   "metadata": {},
   "outputs": [],
   "source": [
    "# Replace NaN's with outliers for now (so we can split feature)\n",
    "train['Cabin'].fillna('Z/9999/Z', inplace=True)"
   ]
  },
  {
   "cell_type": "code",
   "execution_count": 26,
   "id": "16b30658",
   "metadata": {},
   "outputs": [],
   "source": [
    "train['Cabin_deck'] = train['Cabin'].apply(lambda x: x.split('/')[0])\n",
    "train['Cabin_num'] = train['Cabin'].apply(lambda x: x.split('/')[1]).astype(int)\n",
    "train['Cabin_side'] = train['Cabin'].apply(lambda x: x.split('/')[2])"
   ]
  },
  {
   "cell_type": "code",
   "execution_count": 27,
   "id": "8dd8c94f",
   "metadata": {},
   "outputs": [],
   "source": [
    "# Put Nan's back in (we will fill these later)\n",
    "train.loc[train['Cabin_deck']=='Z', 'Cabin_deck']=np.nan\n",
    "train.loc[train['Cabin_num']==9999, 'Cabin_num']=np.nan\n",
    "train.loc[train['Cabin_side']=='Z', 'Cabin_side']=np.nan\n",
    "\n",
    "# Drop Cabin (we don't need it anymore)\n",
    "train.drop('Cabin', axis=1, inplace=True)"
   ]
  },
  {
   "cell_type": "code",
   "execution_count": 28,
   "id": "9eea7e35",
   "metadata": {},
   "outputs": [
    {
     "data": {
      "image/png": "[encoded data removed]",
      "text/plain": [
       "<Figure size 432x288 with 1 Axes>"
      ]
     },
     "metadata": {},
     "output_type": "display_data"
    }
   ],
   "source": [
    "sns.countplot(data=train, x='Cabin_deck', hue='Transported')\n",
    "plt.title('Cabin deck')\n",
    "plt.show()"
   ]
  },
  {
   "cell_type": "code",
   "execution_count": 29,
   "id": "fa17ef88",
   "metadata": {},
   "outputs": [
    {
     "data": {
      "text/plain": [
       "F    2794\n",
       "G    2559\n",
       "E     876\n",
       "B     779\n",
       "C     747\n",
       "D     478\n",
       "A     256\n",
       "T       5\n",
       "Name: Cabin_deck, dtype: int64"
      ]
     },
     "execution_count": 29,
     "metadata": {},
     "output_type": "execute_result"
    }
   ],
   "source": [
    "train['Cabin_deck'].value_counts()"
   ]
  },
  {
   "cell_type": "markdown",
   "id": "856dc011",
   "metadata": {},
   "source": [
    "`Cabin_deck = 'T'` must be an outliers. It will be replaced with `nan`."
   ]
  },
  {
   "cell_type": "code",
   "execution_count": 30,
   "id": "932ba98f",
   "metadata": {},
   "outputs": [],
   "source": [
    "train.loc[train['Cabin_deck']=='T', 'Cabin_deck']=np.nan"
   ]
  },
  {
   "cell_type": "code",
   "execution_count": 31,
   "id": "c376eb53",
   "metadata": {},
   "outputs": [
    {
     "data": {
      "image/png": "[encoded data removed]",
      "text/plain": [
       "<Figure size 1080x360 with 1 Axes>"
      ]
     },
     "metadata": {},
     "output_type": "display_data"
    }
   ],
   "source": [
    "plt.figure(figsize=(15, 5))\n",
    "sns.histplot(data=train, x='Cabin_num', hue='Transported', kde=True, binwidth=100)\n",
    "plt.title('Cabin num')\n",
    "plt.show()"
   ]
  },
  {
   "cell_type": "markdown",
   "id": "6c76983b",
   "metadata": {},
   "source": [
    "Create `Cabin_num_group` feature"
   ]
  },
  {
   "cell_type": "code",
   "execution_count": 32,
   "id": "582804f9",
   "metadata": {},
   "outputs": [],
   "source": [
    "train['Cabin_num_group_1'] = (train['Cabin_num'] <= 300).astype(int)\n",
    "train['Cabin_num_group_2'] = ((train['Cabin_num'] > 300) & (train['Cabin_num'] <= 700)).astype(int)\n",
    "train['Cabin_num_group_3'] = ((train['Cabin_num'] > 700) & (train['Cabin_num'] <= 1200)).astype(int)\n",
    "# train['Cabin_num_group_4'] = (train['Cabin_num'] > 1200).astype(int)  # Remove because of DUMMY TRAP"
   ]
  },
  {
   "cell_type": "code",
   "execution_count": 33,
   "id": "6696097d",
   "metadata": {},
   "outputs": [
    {
     "data": {
      "image/png": "[encoded data removed]",
      "text/plain": [
       "<Figure size 1080x360 with 1 Axes>"
      ]
     },
     "metadata": {},
     "output_type": "display_data"
    }
   ],
   "source": [
    "plt.figure(figsize=(15, 5))\n",
    "sns.countplot(data=train, x='Cabin_side', hue='Transported')\n",
    "plt.title('Cabin side')\n",
    "plt.show()"
   ]
  },
  {
   "cell_type": "markdown",
   "id": "78479090",
   "metadata": {},
   "source": [
    "## `Name`"
   ]
  },
  {
   "cell_type": "markdown",
   "id": "b14e6045",
   "metadata": {},
   "source": [
    "Fill `nans` with outlier in order to execute feature engineering."
   ]
  },
  {
   "cell_type": "code",
   "execution_count": 34,
   "id": "d12848c4",
   "metadata": {},
   "outputs": [],
   "source": [
    "train['Name'].fillna('NoName NoName', inplace=True)"
   ]
  },
  {
   "cell_type": "code",
   "execution_count": 35,
   "id": "d48665c7",
   "metadata": {},
   "outputs": [],
   "source": [
    "train['First Name'] = train['Name'].apply(lambda x: x.split()[0])\n",
    "train['Family Name'] = train['Name'].apply(lambda x: x.split()[1])"
   ]
  },
  {
   "cell_type": "markdown",
   "id": "652c8a93",
   "metadata": {},
   "source": [
    "Create feature `Family` indicating if the passenger is travelling with his family."
   ]
  },
  {
   "cell_type": "code",
   "execution_count": 36,
   "id": "98d53180",
   "metadata": {},
   "outputs": [],
   "source": [
    "train['Family'] = np.nan"
   ]
  },
  {
   "cell_type": "code",
   "execution_count": 37,
   "id": "e97d64d0",
   "metadata": {},
   "outputs": [
    {
     "data": {
      "text/plain": [
       "array(['NoName', 'Casonston', 'Oneiles', ..., 'Phillis', 'Unrent',\n",
       "       'Appie'], dtype=object)"
      ]
     },
     "execution_count": 37,
     "metadata": {},
     "output_type": "execute_result"
    }
   ],
   "source": [
    "families = pd.DataFrame(train['Family Name'].value_counts())\n",
    "families = families[families['Family Name']>1].index.values\n",
    "families"
   ]
  },
  {
   "cell_type": "code",
   "execution_count": 38,
   "id": "f7ccf9be",
   "metadata": {},
   "outputs": [],
   "source": [
    "train.loc[train['Family Name'].isin(families), 'Family'] = 1\n",
    "train.loc[~train['Family Name'].isin(families), 'Family'] = 0"
   ]
  },
  {
   "cell_type": "markdown",
   "id": "a731e03d",
   "metadata": {},
   "source": [
    "Replace `Family = 0` if `Name = NoName NoName`"
   ]
  },
  {
   "cell_type": "code",
   "execution_count": 39,
   "id": "859f8e70",
   "metadata": {},
   "outputs": [],
   "source": [
    "noname = train[train['Family Name'] == 'NoName'].index.values\n",
    "train.loc[noname, 'Family'] = 0"
   ]
  },
  {
   "cell_type": "markdown",
   "id": "ac9246be",
   "metadata": {},
   "source": [
    "Drop `Name` column"
   ]
  },
  {
   "cell_type": "code",
   "execution_count": 40,
   "id": "9c1dcf76",
   "metadata": {},
   "outputs": [],
   "source": [
    "train.drop(['Name'],axis=1,inplace=True)"
   ]
  },
  {
   "cell_type": "code",
   "execution_count": 41,
   "id": "9b530df3",
   "metadata": {},
   "outputs": [
    {
     "data": {
      "text/plain": [
       "1.0    8111\n",
       "0.0     582\n",
       "Name: Family, dtype: int64"
      ]
     },
     "execution_count": 41,
     "metadata": {},
     "output_type": "execute_result"
    }
   ],
   "source": [
    "train['Family'].value_counts()"
   ]
  },
  {
   "cell_type": "markdown",
   "id": "408dff34",
   "metadata": {},
   "source": [
    "## Some usefull plots"
   ]
  },
  {
   "cell_type": "code",
   "execution_count": 42,
   "id": "3c188e12",
   "metadata": {},
   "outputs": [],
   "source": [
    "def plot_pie_chart(dataframe,col):\n",
    "    _, ax = plt.subplots(figsize=[18,6])\n",
    "    dataframe.groupby([col]).size().plot(kind='pie',autopct='%.2f%%',ax=ax, title='',label=col)     "
   ]
  },
  {
   "cell_type": "code",
   "execution_count": 43,
   "id": "4eb4fd96",
   "metadata": {},
   "outputs": [
    {
     "data": {
      "image/png": "[encoded data removed]",
      "text/plain": [
       "<Figure size 1296x432 with 1 Axes>"
      ]
     },
     "metadata": {},
     "output_type": "display_data"
    }
   ],
   "source": [
    "plot_pie_chart(train,col=\"HomePlanet\")"
   ]
  },
  {
   "cell_type": "code",
   "execution_count": 44,
   "id": "78637a20",
   "metadata": {
    "scrolled": true
   },
   "outputs": [
    {
     "data": {
      "image/png": "[encoded data removed]",
      "text/plain": [
       "<Figure size 1296x432 with 1 Axes>"
      ]
     },
     "metadata": {},
     "output_type": "display_data"
    }
   ],
   "source": [
    "plot_pie_chart(train,col=\"CryoSleep\")"
   ]
  },
  {
   "cell_type": "code",
   "execution_count": 45,
   "id": "721045e0",
   "metadata": {},
   "outputs": [
    {
     "data": {
      "image/png": "[encoded data removed]",
      "text/plain": [
       "<Figure size 1296x432 with 1 Axes>"
      ]
     },
     "metadata": {},
     "output_type": "display_data"
    }
   ],
   "source": [
    "plot_pie_chart(train,col=\"Destination\")"
   ]
  },
  {
   "cell_type": "code",
   "execution_count": 46,
   "id": "9351345e",
   "metadata": {},
   "outputs": [
    {
     "data": {
      "image/png": "[encoded data removed]",
      "text/plain": [
       "<Figure size 1296x432 with 1 Axes>"
      ]
     },
     "metadata": {},
     "output_type": "display_data"
    }
   ],
   "source": [
    "plot_pie_chart(train,col=\"VIP\")"
   ]
  },
  {
   "cell_type": "markdown",
   "id": "d35f8de8",
   "metadata": {},
   "source": [
    "`VIP` doesn't seem to be useful feature, so it will be droped (maybe)."
   ]
  },
  {
   "cell_type": "markdown",
   "id": "5c6b751f",
   "metadata": {},
   "source": [
    "## Looking at target value"
   ]
  },
  {
   "cell_type": "code",
   "execution_count": 47,
   "id": "a1c63288",
   "metadata": {},
   "outputs": [
    {
     "data": {
      "image/png": "[encoded data removed]",
      "text/plain": [
       "<Figure size 1296x432 with 1 Axes>"
      ]
     },
     "metadata": {},
     "output_type": "display_data"
    }
   ],
   "source": [
    "plot_pie_chart(train,col=\"Transported\")"
   ]
  },
  {
   "cell_type": "markdown",
   "id": "0c4d5fc3",
   "metadata": {},
   "source": [
    "The __target__ variable is very balanced."
   ]
  },
  {
   "cell_type": "code",
   "execution_count": 48,
   "id": "69818487",
   "metadata": {},
   "outputs": [
    {
     "data": {
      "image/png": "[encoded data removed]",
      "text/plain": [
       "<Figure size 720x1152 with 4 Axes>"
      ]
     },
     "metadata": {},
     "output_type": "display_data"
    }
   ],
   "source": [
    "# Categorical features\n",
    "cat_feats=['HomePlanet', 'CryoSleep', 'Destination', 'VIP']\n",
    "\n",
    "# Plot categorical features\n",
    "fig=plt.figure(figsize=(10,16))\n",
    "for i, var_name in enumerate(cat_feats):\n",
    "    ax=fig.add_subplot(4,1,i+1)\n",
    "    sns.countplot(data=train, x=var_name, axes=ax, hue='Transported')\n",
    "    ax.set_title(var_name)\n",
    "fig.tight_layout()  # Improves appearance a bit\n",
    "plt.show()"
   ]
  },
  {
   "cell_type": "markdown",
   "id": "4c5ddd8c",
   "metadata": {},
   "source": [
    "# Imputing the missing data "
   ]
  },
  {
   "cell_type": "code",
   "execution_count": 49,
   "id": "56b1e5cf",
   "metadata": {},
   "outputs": [
    {
     "data": {
      "text/html": [
       "<div>\n",
       "<style scoped>\n",
       "    .dataframe tbody tr th:only-of-type {\n",
       "        vertical-align: middle;\n",
       "    }\n",
       "\n",
       "    .dataframe tbody tr th {\n",
       "        vertical-align: top;\n",
       "    }\n",
       "\n",
       "    .dataframe thead th {\n",
       "        text-align: right;\n",
       "    }\n",
       "</style>\n",
       "<table border=\"1\" class=\"dataframe\">\n",
       "  <thead>\n",
       "    <tr style=\"text-align: right;\">\n",
       "      <th></th>\n",
       "      <th>NaN_sum</th>\n",
       "      <th>Percentage(%)</th>\n",
       "      <th>Type</th>\n",
       "    </tr>\n",
       "  </thead>\n",
       "  <tbody>\n",
       "    <tr>\n",
       "      <th>Age</th>\n",
       "      <td>179</td>\n",
       "      <td>2.059128</td>\n",
       "      <td>float64</td>\n",
       "    </tr>\n",
       "    <tr>\n",
       "      <th>Age_group</th>\n",
       "      <td>179</td>\n",
       "      <td>2.059128</td>\n",
       "      <td>object</td>\n",
       "    </tr>\n",
       "    <tr>\n",
       "      <th>RoomService</th>\n",
       "      <td>181</td>\n",
       "      <td>2.082135</td>\n",
       "      <td>float64</td>\n",
       "    </tr>\n",
       "    <tr>\n",
       "      <th>Destination</th>\n",
       "      <td>182</td>\n",
       "      <td>2.093639</td>\n",
       "      <td>object</td>\n",
       "    </tr>\n",
       "    <tr>\n",
       "      <th>FoodCourt</th>\n",
       "      <td>183</td>\n",
       "      <td>2.105142</td>\n",
       "      <td>float64</td>\n",
       "    </tr>\n",
       "    <tr>\n",
       "      <th>Spa</th>\n",
       "      <td>183</td>\n",
       "      <td>2.105142</td>\n",
       "      <td>float64</td>\n",
       "    </tr>\n",
       "    <tr>\n",
       "      <th>VRDeck</th>\n",
       "      <td>188</td>\n",
       "      <td>2.162660</td>\n",
       "      <td>float64</td>\n",
       "    </tr>\n",
       "    <tr>\n",
       "      <th>Cabin_num</th>\n",
       "      <td>199</td>\n",
       "      <td>2.289198</td>\n",
       "      <td>float64</td>\n",
       "    </tr>\n",
       "    <tr>\n",
       "      <th>Cabin_side</th>\n",
       "      <td>199</td>\n",
       "      <td>2.289198</td>\n",
       "      <td>object</td>\n",
       "    </tr>\n",
       "    <tr>\n",
       "      <th>HomePlanet</th>\n",
       "      <td>201</td>\n",
       "      <td>2.312205</td>\n",
       "      <td>object</td>\n",
       "    </tr>\n",
       "    <tr>\n",
       "      <th>VIP</th>\n",
       "      <td>203</td>\n",
       "      <td>2.335212</td>\n",
       "      <td>object</td>\n",
       "    </tr>\n",
       "    <tr>\n",
       "      <th>Cabin_deck</th>\n",
       "      <td>204</td>\n",
       "      <td>2.346716</td>\n",
       "      <td>object</td>\n",
       "    </tr>\n",
       "    <tr>\n",
       "      <th>ShoppingMall</th>\n",
       "      <td>208</td>\n",
       "      <td>2.392730</td>\n",
       "      <td>float64</td>\n",
       "    </tr>\n",
       "    <tr>\n",
       "      <th>CryoSleep</th>\n",
       "      <td>217</td>\n",
       "      <td>2.496261</td>\n",
       "      <td>object</td>\n",
       "    </tr>\n",
       "  </tbody>\n",
       "</table>\n",
       "</div>"
      ],
      "text/plain": [
       "              NaN_sum  Percentage(%)     Type\n",
       "Age               179       2.059128  float64\n",
       "Age_group         179       2.059128   object\n",
       "RoomService       181       2.082135  float64\n",
       "Destination       182       2.093639   object\n",
       "FoodCourt         183       2.105142  float64\n",
       "Spa               183       2.105142  float64\n",
       "VRDeck            188       2.162660  float64\n",
       "Cabin_num         199       2.289198  float64\n",
       "Cabin_side        199       2.289198   object\n",
       "HomePlanet        201       2.312205   object\n",
       "VIP               203       2.335212   object\n",
       "Cabin_deck        204       2.346716   object\n",
       "ShoppingMall      208       2.392730  float64\n",
       "CryoSleep         217       2.496261   object"
      ]
     },
     "execution_count": 49,
     "metadata": {},
     "output_type": "execute_result"
    }
   ],
   "source": [
    "# Looking at NaN % within the train data\n",
    "nan = pd.DataFrame(train.isna().sum(), columns = ['NaN_sum'])\n",
    "nan['Percentage(%)'] = (nan['NaN_sum']/len(train))*100\n",
    "# nan['Type'] = nan.index.dtype()\n",
    "nan = nan[nan['NaN_sum'] > 0]\n",
    "nan = nan.sort_values(by = ['NaN_sum'])\n",
    "\n",
    "types = []\n",
    "for i in nan.index: \n",
    "    types.append(train[i].dtype)\n",
    "\n",
    "nan['Type'] = types\n",
    "\n",
    "nan"
   ]
  },
  {
   "cell_type": "markdown",
   "id": "6e7b3163",
   "metadata": {},
   "source": [
    "## Filling missing `CryoSleep`"
   ]
  },
  {
   "cell_type": "markdown",
   "id": "445962c7",
   "metadata": {},
   "source": [
    "If someone is in `CryoSleep`, they wouldn't spend anything..."
   ]
  },
  {
   "cell_type": "code",
   "execution_count": 50,
   "id": "05c6d325",
   "metadata": {},
   "outputs": [],
   "source": [
    "train['CryoSleep'].fillna(train['No_spending'], inplace=True)"
   ]
  },
  {
   "cell_type": "code",
   "execution_count": 51,
   "id": "2396dba7",
   "metadata": {},
   "outputs": [
    {
     "name": "stdout",
     "output_type": "stream",
     "text": [
      "CryoSleep missing values:  0\n"
     ]
    }
   ],
   "source": [
    "print('CryoSleep missing values: ', train['CryoSleep'].isna().sum())"
   ]
  },
  {
   "cell_type": "markdown",
   "id": "e5411f99",
   "metadata": {},
   "source": [
    "Transfrom `CryoSleep` to integer."
   ]
  },
  {
   "cell_type": "code",
   "execution_count": 52,
   "id": "9fc41df5",
   "metadata": {},
   "outputs": [],
   "source": [
    "train['CryoSleep'] = train['CryoSleep'].astype(int)"
   ]
  },
  {
   "cell_type": "markdown",
   "id": "4afe334e",
   "metadata": {},
   "source": [
    "## Filling missing `HomePlanet`"
   ]
  },
  {
   "cell_type": "markdown",
   "id": "0b7b6ec3",
   "metadata": {},
   "source": [
    "People from the same `Family`, are (probably) coming from the same `HomePlanet`."
   ]
  },
  {
   "cell_type": "code",
   "execution_count": 53,
   "id": "36db5de3",
   "metadata": {},
   "outputs": [],
   "source": [
    "train['Previous Family Name'] = train.sort_values(by=['Family Name']).groupby(['Family Name'])['Family Name'].shift(1)\n",
    "train['Previous HomePlanet'] = train.sort_values(by=['Family Name']).groupby(['Family Name'])['HomePlanet'].shift(1)"
   ]
  },
  {
   "cell_type": "code",
   "execution_count": 54,
   "id": "d06b831b",
   "metadata": {},
   "outputs": [],
   "source": [
    "train['HomePlanet'].fillna(train['Previous HomePlanet'], inplace=True)"
   ]
  },
  {
   "cell_type": "code",
   "execution_count": 55,
   "id": "aef3b200",
   "metadata": {},
   "outputs": [],
   "source": [
    "train.sort_values(by=['Family Name'])['HomePlanet'].fillna(train.sort_values(by=['Family Name'])['Previous HomePlanet'], inplace=True)"
   ]
  },
  {
   "cell_type": "code",
   "execution_count": 56,
   "id": "5b213906",
   "metadata": {},
   "outputs": [
    {
     "data": {
      "text/plain": [
       "Earth     4686\n",
       "Europa    2163\n",
       "Mars      1795\n",
       "Name: HomePlanet, dtype: int64"
      ]
     },
     "execution_count": 56,
     "metadata": {},
     "output_type": "execute_result"
    }
   ],
   "source": [
    "train['HomePlanet'].value_counts()"
   ]
  },
  {
   "cell_type": "code",
   "execution_count": 57,
   "id": "8b922293",
   "metadata": {},
   "outputs": [
    {
     "name": "stdout",
     "output_type": "stream",
     "text": [
      "HomePlanet missing values:  49\n"
     ]
    }
   ],
   "source": [
    "print('HomePlanet missing values: ', train['HomePlanet'].isna().sum())"
   ]
  },
  {
   "cell_type": "markdown",
   "id": "b2c7633c",
   "metadata": {},
   "source": [
    "Will use table above to fill remaining missing values of `HomePlanet`."
   ]
  },
  {
   "cell_type": "code",
   "execution_count": 58,
   "id": "971f0919",
   "metadata": {
    "scrolled": true
   },
   "outputs": [
    {
     "data": {
      "text/html": [
       "<div>\n",
       "<style scoped>\n",
       "    .dataframe tbody tr th:only-of-type {\n",
       "        vertical-align: middle;\n",
       "    }\n",
       "\n",
       "    .dataframe tbody tr th {\n",
       "        vertical-align: top;\n",
       "    }\n",
       "\n",
       "    .dataframe thead th {\n",
       "        text-align: right;\n",
       "    }\n",
       "</style>\n",
       "<table border=\"1\" class=\"dataframe\">\n",
       "  <thead>\n",
       "    <tr style=\"text-align: right;\">\n",
       "      <th>HomePlanet</th>\n",
       "      <th>Earth</th>\n",
       "      <th>Europa</th>\n",
       "      <th>Mars</th>\n",
       "    </tr>\n",
       "    <tr>\n",
       "      <th>Cabin_deck</th>\n",
       "      <th></th>\n",
       "      <th></th>\n",
       "      <th></th>\n",
       "    </tr>\n",
       "  </thead>\n",
       "  <tbody>\n",
       "    <tr>\n",
       "      <th>A</th>\n",
       "      <td>NaN</td>\n",
       "      <td>254.0</td>\n",
       "      <td>NaN</td>\n",
       "    </tr>\n",
       "    <tr>\n",
       "      <th>B</th>\n",
       "      <td>NaN</td>\n",
       "      <td>778.0</td>\n",
       "      <td>NaN</td>\n",
       "    </tr>\n",
       "    <tr>\n",
       "      <th>C</th>\n",
       "      <td>NaN</td>\n",
       "      <td>742.0</td>\n",
       "      <td>NaN</td>\n",
       "    </tr>\n",
       "    <tr>\n",
       "      <th>D</th>\n",
       "      <td>1.0</td>\n",
       "      <td>189.0</td>\n",
       "      <td>285.0</td>\n",
       "    </tr>\n",
       "    <tr>\n",
       "      <th>E</th>\n",
       "      <td>402.0</td>\n",
       "      <td>132.0</td>\n",
       "      <td>337.0</td>\n",
       "    </tr>\n",
       "    <tr>\n",
       "      <th>F</th>\n",
       "      <td>1643.0</td>\n",
       "      <td>2.0</td>\n",
       "      <td>1136.0</td>\n",
       "    </tr>\n",
       "    <tr>\n",
       "      <th>G</th>\n",
       "      <td>2541.0</td>\n",
       "      <td>NaN</td>\n",
       "      <td>NaN</td>\n",
       "    </tr>\n",
       "  </tbody>\n",
       "</table>\n",
       "</div>"
      ],
      "text/plain": [
       "HomePlanet   Earth  Europa    Mars\n",
       "Cabin_deck                        \n",
       "A              NaN   254.0     NaN\n",
       "B              NaN   778.0     NaN\n",
       "C              NaN   742.0     NaN\n",
       "D              1.0   189.0   285.0\n",
       "E            402.0   132.0   337.0\n",
       "F           1643.0     2.0  1136.0\n",
       "G           2541.0     NaN     NaN"
      ]
     },
     "execution_count": 58,
     "metadata": {},
     "output_type": "execute_result"
    }
   ],
   "source": [
    "train.groupby(['Cabin_deck','HomePlanet']).size().unstack()"
   ]
  },
  {
   "cell_type": "code",
   "execution_count": 59,
   "id": "5b09490c",
   "metadata": {},
   "outputs": [],
   "source": [
    "train.loc[(train['Cabin_deck']=='A') & (train['HomePlanet'].isna()), 'HomePlanet'] = 'Europa'\n",
    "train.loc[(train['Cabin_deck']=='B') & (train['HomePlanet'].isna()), 'HomePlanet'] = 'Europa'\n",
    "train.loc[(train['Cabin_deck']=='C') & (train['HomePlanet'].isna()), 'HomePlanet'] = 'Europa'\n",
    "train.loc[(train['Cabin_deck']=='D') & (train['HomePlanet'].isna()), 'HomePlanet'] = 'Mars'\n",
    "train.loc[(train['Cabin_deck']=='E') & (train['HomePlanet'].isna()), 'HomePlanet'] = 'Earth'\n",
    "train.loc[(train['Cabin_deck']=='F') & (train['HomePlanet'].isna()), 'HomePlanet'] = 'Earth'\n",
    "train.loc[(train['Cabin_deck']=='G') & (train['HomePlanet'].isna()), 'HomePlanet'] = 'Earth'"
   ]
  },
  {
   "cell_type": "code",
   "execution_count": 60,
   "id": "0b9c3c48",
   "metadata": {},
   "outputs": [
    {
     "name": "stdout",
     "output_type": "stream",
     "text": [
      "HomePlanet missing values:  2\n"
     ]
    }
   ],
   "source": [
    "print('HomePlanet missing values: ', train['HomePlanet'].isna().sum())"
   ]
  },
  {
   "cell_type": "markdown",
   "id": "6f0d3b2b",
   "metadata": {},
   "source": [
    "Fill remaining `HomePlanet` with mode (Earth)"
   ]
  },
  {
   "cell_type": "code",
   "execution_count": 61,
   "id": "de374f9a",
   "metadata": {},
   "outputs": [],
   "source": [
    "train['HomePlanet'].fillna(train['HomePlanet'].mode()[0], inplace=True)"
   ]
  },
  {
   "cell_type": "code",
   "execution_count": 62,
   "id": "b7cf918c",
   "metadata": {},
   "outputs": [
    {
     "name": "stdout",
     "output_type": "stream",
     "text": [
      "HomePlanet missing values:  0\n"
     ]
    }
   ],
   "source": [
    "print('HomePlanet missing values: ', train['HomePlanet'].isna().sum())"
   ]
  },
  {
   "cell_type": "markdown",
   "id": "0e0694cb",
   "metadata": {},
   "source": [
    "## Filling missing `Age`"
   ]
  },
  {
   "cell_type": "markdown",
   "id": "c58b996a",
   "metadata": {},
   "source": [
    "We can see that the median `Age` is different is cases below:"
   ]
  },
  {
   "cell_type": "code",
   "execution_count": 63,
   "id": "dba56961",
   "metadata": {},
   "outputs": [
    {
     "name": "stdout",
     "output_type": "stream",
     "text": [
      "27.0\n",
      "34.0\n",
      "27.0\n"
     ]
    }
   ],
   "source": [
    "print(train[train['VIP']==0]['Age'].median())\n",
    "print(train[train['VIP']==1]['Age'].median())\n",
    "print(train['Age'].median())"
   ]
  },
  {
   "cell_type": "code",
   "execution_count": 64,
   "id": "65282221",
   "metadata": {},
   "outputs": [],
   "source": [
    "train.loc[(train['VIP']==0) & (train['Age'].isna()), 'Age'] = train[train['VIP']==0]['Age'].median()\n",
    "train.loc[(train['VIP']==1) & (train['Age'].isna()), 'Age'] = train[train['VIP']==1]['Age'].median()"
   ]
  },
  {
   "cell_type": "markdown",
   "id": "92cefe1b",
   "metadata": {},
   "source": [
    "Fill rest of missing `Age` as below."
   ]
  },
  {
   "cell_type": "code",
   "execution_count": 65,
   "id": "2096fc83",
   "metadata": {},
   "outputs": [],
   "source": [
    "train['Age'] = train['Age'].fillna(train.groupby(['HomePlanet', 'Solo', 'No_spending'])['Age'].transform('median'))"
   ]
  },
  {
   "cell_type": "code",
   "execution_count": 66,
   "id": "88f0b9dd",
   "metadata": {},
   "outputs": [
    {
     "name": "stdout",
     "output_type": "stream",
     "text": [
      "Age missing values:  0\n"
     ]
    }
   ],
   "source": [
    "print('Age missing values: ', train['Age'].isna().sum())"
   ]
  },
  {
   "cell_type": "markdown",
   "id": "1b12940d",
   "metadata": {},
   "source": [
    "### Fill alsο `Age_group`"
   ]
  },
  {
   "cell_type": "code",
   "execution_count": 67,
   "id": "27deac9e",
   "metadata": {},
   "outputs": [],
   "source": [
    "train.loc[train['Age']<= 18, 'Age_group'] = 'Age_0-18'\n",
    "train.loc[(train['Age'] > 18) & (train['Age'] <= 36), 'Age_group'] = 'Age_19-36'\n",
    "train.loc[(train['Age'] > 36) & (train['Age'] <= 50), 'Age_group'] = 'Age_37-50'\n",
    "train.loc[train['Age'] > 50, 'Age_group'] = 'Age_50+'"
   ]
  },
  {
   "cell_type": "code",
   "execution_count": 68,
   "id": "e2487fc5",
   "metadata": {},
   "outputs": [
    {
     "name": "stdout",
     "output_type": "stream",
     "text": [
      "Age_group missing values:  0\n"
     ]
    }
   ],
   "source": [
    "print('Age_group missing values: ', train['Age_group'].isna().sum())"
   ]
  },
  {
   "cell_type": "markdown",
   "id": "251260c0",
   "metadata": {},
   "source": [
    "## Filling missing `Destination`"
   ]
  },
  {
   "cell_type": "code",
   "execution_count": 69,
   "id": "e471eed5",
   "metadata": {},
   "outputs": [
    {
     "data": {
      "image/png": "[encoded data removed]",
      "text/plain": [
       "<Figure size 1152x1152 with 6 Axes>"
      ]
     },
     "metadata": {},
     "output_type": "display_data"
    }
   ],
   "source": [
    "fig, axes = plt.subplots(3, 2, figsize=(16,16))\n",
    "fig.suptitle('Destination')\n",
    "sns.countplot(ax=axes[0][0], data=train, x='Destination', hue='Transported')\n",
    "sns.countplot(ax=axes[0][1], data=train, x='Destination', hue='No_spending')\n",
    "sns.countplot(ax=axes[1][0], data=train, x='Destination', hue='Solo')\n",
    "sns.countplot(ax=axes[1][1], data=train, x='Destination', hue='HomePlanet')\n",
    "sns.countplot(ax=axes[2][0], data=train, x='Destination', hue='Age_group')\n",
    "sns.countplot(ax=axes[2][1], data=train, x='Destination', hue='CryoSleep')\n",
    "plt.show()"
   ]
  },
  {
   "cell_type": "code",
   "execution_count": 70,
   "id": "2ff6db3a",
   "metadata": {},
   "outputs": [
    {
     "data": {
      "text/plain": [
       "TRAPPIST-1e      5915\n",
       "55 Cancri e      1800\n",
       "PSO J318.5-22     796\n",
       "Name: Destination, dtype: int64"
      ]
     },
     "execution_count": 70,
     "metadata": {},
     "output_type": "execute_result"
    }
   ],
   "source": [
    "train['Destination'].value_counts()"
   ]
  },
  {
   "cell_type": "code",
   "execution_count": 71,
   "id": "5a12705d",
   "metadata": {},
   "outputs": [],
   "source": [
    "for i in train[train['Destination'].isnull()].index:\n",
    "    if((train.iloc[i]['HomePlanet']=='Earth')): \n",
    "        train.loc[i, 'Destination'] = 'TRAPPIST-1e'\n",
    "\n",
    "for i in train[train['Destination'].isnull()].index:\n",
    "    if((train.iloc[i]['HomePlanet']=='Mars')): \n",
    "        train.loc[i, 'Destination'] = 'TRAPPIST-1e'\n",
    "        \n",
    "for i in train[train['Destination'].isnull()].index:\n",
    "    if((train.iloc[i]['HomePlanet']=='Europa')): \n",
    "        train.loc[i, 'Destination'] = '55 Cancri e'"
   ]
  },
  {
   "cell_type": "code",
   "execution_count": 72,
   "id": "d92322de",
   "metadata": {},
   "outputs": [
    {
     "name": "stdout",
     "output_type": "stream",
     "text": [
      "Destination missing values:  0\n"
     ]
    }
   ],
   "source": [
    "print('Destination missing values: ', train['Destination'].isna().sum())"
   ]
  },
  {
   "cell_type": "markdown",
   "id": "744480c0",
   "metadata": {},
   "source": [
    "## Filling `Cabin_side`"
   ]
  },
  {
   "cell_type": "code",
   "execution_count": 73,
   "id": "dba56d53",
   "metadata": {},
   "outputs": [
    {
     "data": {
      "text/html": [
       "<div>\n",
       "<style scoped>\n",
       "    .dataframe tbody tr th:only-of-type {\n",
       "        vertical-align: middle;\n",
       "    }\n",
       "\n",
       "    .dataframe tbody tr th {\n",
       "        vertical-align: top;\n",
       "    }\n",
       "\n",
       "    .dataframe thead th {\n",
       "        text-align: right;\n",
       "    }\n",
       "</style>\n",
       "<table border=\"1\" class=\"dataframe\">\n",
       "  <thead>\n",
       "    <tr style=\"text-align: right;\">\n",
       "      <th>HomePlanet</th>\n",
       "      <th>Earth</th>\n",
       "      <th>Europa</th>\n",
       "      <th>Mars</th>\n",
       "    </tr>\n",
       "    <tr>\n",
       "      <th>Cabin_side</th>\n",
       "      <th></th>\n",
       "      <th></th>\n",
       "      <th></th>\n",
       "    </tr>\n",
       "  </thead>\n",
       "  <tbody>\n",
       "    <tr>\n",
       "      <th>P</th>\n",
       "      <td>2329</td>\n",
       "      <td>970</td>\n",
       "      <td>907</td>\n",
       "    </tr>\n",
       "    <tr>\n",
       "      <th>S</th>\n",
       "      <td>2295</td>\n",
       "      <td>1139</td>\n",
       "      <td>854</td>\n",
       "    </tr>\n",
       "  </tbody>\n",
       "</table>\n",
       "</div>"
      ],
      "text/plain": [
       "HomePlanet  Earth  Europa  Mars\n",
       "Cabin_side                     \n",
       "P            2329     970   907\n",
       "S            2295    1139   854"
      ]
     },
     "execution_count": 73,
     "metadata": {},
     "output_type": "execute_result"
    }
   ],
   "source": [
    "train.groupby(['Cabin_side','HomePlanet']).size().unstack()"
   ]
  },
  {
   "cell_type": "markdown",
   "id": "c89ad633",
   "metadata": {},
   "source": [
    "Fill `NaN` using the logic from table above."
   ]
  },
  {
   "cell_type": "code",
   "execution_count": 74,
   "id": "9f87fa5e",
   "metadata": {},
   "outputs": [],
   "source": [
    "train.loc[(train['HomePlanet']=='Earth') & (train['Cabin_side'].isna()), 'Cabin_side'] = 'P'\n",
    "train.loc[(train['HomePlanet']=='Europa') & (train['Cabin_side'].isna()), 'Cabin_side'] = 'S'\n",
    "train.loc[(train['HomePlanet']=='Mars') & (train['Cabin_side'].isna()), 'Cabin_side'] = 'P'"
   ]
  },
  {
   "cell_type": "code",
   "execution_count": 75,
   "id": "d15958e2",
   "metadata": {},
   "outputs": [
    {
     "name": "stdout",
     "output_type": "stream",
     "text": [
      "Cabin_side missing values:  0\n"
     ]
    }
   ],
   "source": [
    "print('Cabin_side missing values: ', train['Cabin_side'].isna().sum())"
   ]
  },
  {
   "cell_type": "markdown",
   "id": "32806de4",
   "metadata": {},
   "source": [
    "## Filling `Cabin_deck` "
   ]
  },
  {
   "cell_type": "code",
   "execution_count": 76,
   "id": "2b1c0702",
   "metadata": {},
   "outputs": [
    {
     "data": {
      "text/plain": [
       "F    2794\n",
       "G    2559\n",
       "E     876\n",
       "B     779\n",
       "C     747\n",
       "D     478\n",
       "A     256\n",
       "Name: Cabin_deck, dtype: int64"
      ]
     },
     "execution_count": 76,
     "metadata": {},
     "output_type": "execute_result"
    }
   ],
   "source": [
    "train['Cabin_deck'].value_counts()"
   ]
  },
  {
   "cell_type": "code",
   "execution_count": 77,
   "id": "e93b4591",
   "metadata": {},
   "outputs": [
    {
     "data": {
      "text/html": [
       "<div>\n",
       "<style scoped>\n",
       "    .dataframe tbody tr th:only-of-type {\n",
       "        vertical-align: middle;\n",
       "    }\n",
       "\n",
       "    .dataframe tbody tr th {\n",
       "        vertical-align: top;\n",
       "    }\n",
       "\n",
       "    .dataframe thead th {\n",
       "        text-align: right;\n",
       "    }\n",
       "</style>\n",
       "<table border=\"1\" class=\"dataframe\">\n",
       "  <thead>\n",
       "    <tr style=\"text-align: right;\">\n",
       "      <th>No_spending</th>\n",
       "      <th>0</th>\n",
       "      <th>1</th>\n",
       "    </tr>\n",
       "    <tr>\n",
       "      <th>Cabin_deck</th>\n",
       "      <th></th>\n",
       "      <th></th>\n",
       "    </tr>\n",
       "  </thead>\n",
       "  <tbody>\n",
       "    <tr>\n",
       "      <th>A</th>\n",
       "      <td>168</td>\n",
       "      <td>88</td>\n",
       "    </tr>\n",
       "    <tr>\n",
       "      <th>B</th>\n",
       "      <td>308</td>\n",
       "      <td>471</td>\n",
       "    </tr>\n",
       "    <tr>\n",
       "      <th>C</th>\n",
       "      <td>424</td>\n",
       "      <td>323</td>\n",
       "    </tr>\n",
       "    <tr>\n",
       "      <th>D</th>\n",
       "      <td>369</td>\n",
       "      <td>109</td>\n",
       "    </tr>\n",
       "    <tr>\n",
       "      <th>E</th>\n",
       "      <td>645</td>\n",
       "      <td>231</td>\n",
       "    </tr>\n",
       "    <tr>\n",
       "      <th>F</th>\n",
       "      <td>2140</td>\n",
       "      <td>654</td>\n",
       "    </tr>\n",
       "    <tr>\n",
       "      <th>G</th>\n",
       "      <td>879</td>\n",
       "      <td>1680</td>\n",
       "    </tr>\n",
       "  </tbody>\n",
       "</table>\n",
       "</div>"
      ],
      "text/plain": [
       "No_spending     0     1\n",
       "Cabin_deck             \n",
       "A             168    88\n",
       "B             308   471\n",
       "C             424   323\n",
       "D             369   109\n",
       "E             645   231\n",
       "F            2140   654\n",
       "G             879  1680"
      ]
     },
     "execution_count": 77,
     "metadata": {},
     "output_type": "execute_result"
    }
   ],
   "source": [
    "train.groupby(['Cabin_deck','No_spending']).size().unstack()"
   ]
  },
  {
   "cell_type": "code",
   "execution_count": 78,
   "id": "1f1720da",
   "metadata": {},
   "outputs": [],
   "source": [
    "for i in train[train['Cabin_deck'].isnull()].index:\n",
    "    if((train.iloc[i]['No_spending']==1)): \n",
    "        train.loc[i, 'Cabin_deck'] = 'G'\n",
    "    else: \n",
    "        train.loc[i, 'Cabin_deck'] = 'F'"
   ]
  },
  {
   "cell_type": "code",
   "execution_count": 79,
   "id": "6a12c663",
   "metadata": {},
   "outputs": [
    {
     "name": "stdout",
     "output_type": "stream",
     "text": [
      "Cabin_deck missing values:  0\n"
     ]
    }
   ],
   "source": [
    "print('Cabin_deck missing values: ', train['Cabin_deck'].isna().sum())"
   ]
  },
  {
   "cell_type": "markdown",
   "id": "addba543",
   "metadata": {},
   "source": [
    "## Final check of missing values"
   ]
  },
  {
   "cell_type": "code",
   "execution_count": 80,
   "id": "314e9e85",
   "metadata": {},
   "outputs": [
    {
     "data": {
      "text/plain": [
       "PassengerId                0\n",
       "HomePlanet                 0\n",
       "CryoSleep                  0\n",
       "Destination                0\n",
       "Age                        0\n",
       "VIP                      203\n",
       "RoomService              181\n",
       "FoodCourt                183\n",
       "ShoppingMall             208\n",
       "Spa                      183\n",
       "VRDeck                   188\n",
       "Transported                0\n",
       "Age_group                  0\n",
       "Total_expences             0\n",
       "Expenditure                0\n",
       "No_spending                0\n",
       "Group                      0\n",
       "Group_size                 0\n",
       "Solo                       0\n",
       "Cabin_deck                 0\n",
       "Cabin_num                199\n",
       "Cabin_side                 0\n",
       "Cabin_num_group_1          0\n",
       "Cabin_num_group_2          0\n",
       "Cabin_num_group_3          0\n",
       "First Name                 0\n",
       "Family Name                0\n",
       "Family                     0\n",
       "Previous Family Name    2218\n",
       "Previous HomePlanet     2362\n",
       "dtype: int64"
      ]
     },
     "execution_count": 80,
     "metadata": {},
     "output_type": "execute_result"
    }
   ],
   "source": [
    "train.isnull().sum()"
   ]
  },
  {
   "cell_type": "markdown",
   "id": "bd0f8bd1",
   "metadata": {},
   "source": [
    "# Drop unusefull columns"
   ]
  },
  {
   "cell_type": "code",
   "execution_count": 81,
   "id": "bc6c0e05",
   "metadata": {},
   "outputs": [],
   "source": [
    "train.drop(['First Name','Family Name', 'VIP','Cabin_num','Group', 'Previous Family Name', 'Previous HomePlanet'],axis=1,inplace=True)"
   ]
  },
  {
   "cell_type": "markdown",
   "id": "593e363a",
   "metadata": {},
   "source": [
    "# Filling remaining missing values of numerical features"
   ]
  },
  {
   "cell_type": "code",
   "execution_count": 82,
   "id": "826a6599",
   "metadata": {},
   "outputs": [],
   "source": [
    "train.loc[train['No_spending']==1, 'RoomService'] = 0\n",
    "train.loc[train['No_spending']==1, 'FoodCourt'] = 0\n",
    "train.loc[train['No_spending']==1, 'Spa'] = 0\n",
    "train.loc[train['No_spending']==1, 'ShoppingMall'] = 0"
   ]
  },
  {
   "cell_type": "code",
   "execution_count": 83,
   "id": "1821a302",
   "metadata": {},
   "outputs": [],
   "source": [
    "from sklearn.impute import SimpleImputer\n",
    "\n",
    "# filling the null values with median \n",
    "\n",
    "imputer_cols = [\"FoodCourt\", \"ShoppingMall\", \"Spa\", \"VRDeck\" ,\"RoomService\"]\n",
    "imputer = SimpleImputer(strategy=\"median\" )\n",
    "imputer.fit(train[imputer_cols])\n",
    "train[imputer_cols] = imputer.transform(train[imputer_cols])"
   ]
  },
  {
   "cell_type": "markdown",
   "id": "43c60b07",
   "metadata": {},
   "source": [
    "# Set index `PassengerId` "
   ]
  },
  {
   "cell_type": "code",
   "execution_count": 84,
   "id": "6f2d7687",
   "metadata": {},
   "outputs": [],
   "source": [
    "train = train.set_index('PassengerId')"
   ]
  },
  {
   "cell_type": "code",
   "execution_count": 85,
   "id": "74e71208",
   "metadata": {
    "scrolled": true
   },
   "outputs": [
    {
     "data": {
      "text/html": [
       "<div>\n",
       "<style scoped>\n",
       "    .dataframe tbody tr th:only-of-type {\n",
       "        vertical-align: middle;\n",
       "    }\n",
       "\n",
       "    .dataframe tbody tr th {\n",
       "        vertical-align: top;\n",
       "    }\n",
       "\n",
       "    .dataframe thead th {\n",
       "        text-align: right;\n",
       "    }\n",
       "</style>\n",
       "<table border=\"1\" class=\"dataframe\">\n",
       "  <thead>\n",
       "    <tr style=\"text-align: right;\">\n",
       "      <th></th>\n",
       "      <th>HomePlanet</th>\n",
       "      <th>CryoSleep</th>\n",
       "      <th>Destination</th>\n",
       "      <th>Age</th>\n",
       "      <th>RoomService</th>\n",
       "      <th>FoodCourt</th>\n",
       "      <th>ShoppingMall</th>\n",
       "      <th>Spa</th>\n",
       "      <th>VRDeck</th>\n",
       "      <th>Transported</th>\n",
       "      <th>Age_group</th>\n",
       "      <th>Total_expences</th>\n",
       "      <th>Expenditure</th>\n",
       "      <th>No_spending</th>\n",
       "      <th>Group_size</th>\n",
       "      <th>Solo</th>\n",
       "      <th>Cabin_deck</th>\n",
       "      <th>Cabin_side</th>\n",
       "      <th>Cabin_num_group_1</th>\n",
       "      <th>Cabin_num_group_2</th>\n",
       "      <th>Cabin_num_group_3</th>\n",
       "      <th>Family</th>\n",
       "    </tr>\n",
       "    <tr>\n",
       "      <th>PassengerId</th>\n",
       "      <th></th>\n",
       "      <th></th>\n",
       "      <th></th>\n",
       "      <th></th>\n",
       "      <th></th>\n",
       "      <th></th>\n",
       "      <th></th>\n",
       "      <th></th>\n",
       "      <th></th>\n",
       "      <th></th>\n",
       "      <th></th>\n",
       "      <th></th>\n",
       "      <th></th>\n",
       "      <th></th>\n",
       "      <th></th>\n",
       "      <th></th>\n",
       "      <th></th>\n",
       "      <th></th>\n",
       "      <th></th>\n",
       "      <th></th>\n",
       "      <th></th>\n",
       "      <th></th>\n",
       "    </tr>\n",
       "  </thead>\n",
       "  <tbody>\n",
       "    <tr>\n",
       "      <th>0001_01</th>\n",
       "      <td>Europa</td>\n",
       "      <td>0</td>\n",
       "      <td>TRAPPIST-1e</td>\n",
       "      <td>39.0</td>\n",
       "      <td>0.0</td>\n",
       "      <td>0.0</td>\n",
       "      <td>0.0</td>\n",
       "      <td>0.0</td>\n",
       "      <td>0.0</td>\n",
       "      <td>False</td>\n",
       "      <td>Age_37-50</td>\n",
       "      <td>0.0</td>\n",
       "      <td>0.0</td>\n",
       "      <td>1</td>\n",
       "      <td>1</td>\n",
       "      <td>1</td>\n",
       "      <td>B</td>\n",
       "      <td>P</td>\n",
       "      <td>1</td>\n",
       "      <td>0</td>\n",
       "      <td>0</td>\n",
       "      <td>0.0</td>\n",
       "    </tr>\n",
       "    <tr>\n",
       "      <th>0002_01</th>\n",
       "      <td>Earth</td>\n",
       "      <td>0</td>\n",
       "      <td>TRAPPIST-1e</td>\n",
       "      <td>24.0</td>\n",
       "      <td>109.0</td>\n",
       "      <td>9.0</td>\n",
       "      <td>25.0</td>\n",
       "      <td>549.0</td>\n",
       "      <td>44.0</td>\n",
       "      <td>True</td>\n",
       "      <td>Age_19-36</td>\n",
       "      <td>736.0</td>\n",
       "      <td>736.0</td>\n",
       "      <td>0</td>\n",
       "      <td>1</td>\n",
       "      <td>1</td>\n",
       "      <td>F</td>\n",
       "      <td>S</td>\n",
       "      <td>1</td>\n",
       "      <td>0</td>\n",
       "      <td>0</td>\n",
       "      <td>1.0</td>\n",
       "    </tr>\n",
       "  </tbody>\n",
       "</table>\n",
       "</div>"
      ],
      "text/plain": [
       "            HomePlanet  CryoSleep  Destination   Age  RoomService  FoodCourt  \\\n",
       "PassengerId                                                                    \n",
       "0001_01         Europa          0  TRAPPIST-1e  39.0          0.0        0.0   \n",
       "0002_01          Earth          0  TRAPPIST-1e  24.0        109.0        9.0   \n",
       "\n",
       "             ShoppingMall    Spa  VRDeck  Transported  Age_group  \\\n",
       "PassengerId                                                        \n",
       "0001_01               0.0    0.0     0.0        False  Age_37-50   \n",
       "0002_01              25.0  549.0    44.0         True  Age_19-36   \n",
       "\n",
       "             Total_expences  Expenditure  No_spending  Group_size  Solo  \\\n",
       "PassengerId                                                               \n",
       "0001_01                 0.0          0.0            1           1     1   \n",
       "0002_01               736.0        736.0            0           1     1   \n",
       "\n",
       "            Cabin_deck Cabin_side  Cabin_num_group_1  Cabin_num_group_2  \\\n",
       "PassengerId                                                               \n",
       "0001_01              B          P                  1                  0   \n",
       "0002_01              F          S                  1                  0   \n",
       "\n",
       "             Cabin_num_group_3  Family  \n",
       "PassengerId                             \n",
       "0001_01                      0     0.0  \n",
       "0002_01                      0     1.0  "
      ]
     },
     "execution_count": 85,
     "metadata": {},
     "output_type": "execute_result"
    }
   ],
   "source": [
    "pd.set_option('display.max_columns', None)\n",
    "train.head(2)"
   ]
  },
  {
   "cell_type": "markdown",
   "id": "fa52e6f1",
   "metadata": {},
   "source": [
    "# Encode boolean variable (True/False to 1/0)"
   ]
  },
  {
   "cell_type": "code",
   "execution_count": 86,
   "id": "51973598",
   "metadata": {
    "scrolled": true
   },
   "outputs": [
    {
     "data": {
      "text/plain": [
       "(8693, 22)"
      ]
     },
     "execution_count": 86,
     "metadata": {},
     "output_type": "execute_result"
    }
   ],
   "source": [
    "# label encoding \n",
    "from sklearn.preprocessing import LabelEncoder\n",
    "\n",
    "label_cols = [\"HomePlanet\", \"Destination\", \"Age_group\", \"Cabin_deck\", \"Group_size\", \"Cabin_side\"]\n",
    "def label_encoder(df, columns):\n",
    "    for col in columns:\n",
    "        train[col] = train[col].astype(str)\n",
    "        train[col] = LabelEncoder().fit_transform(train[col])\n",
    "    return df\n",
    "\n",
    "train = label_encoder(train, label_cols)\n",
    "train.shape"
   ]
  },
  {
   "cell_type": "code",
   "execution_count": 87,
   "id": "827d147a",
   "metadata": {
    "scrolled": true
   },
   "outputs": [
    {
     "name": "stdout",
     "output_type": "stream",
     "text": [
      "(8693, 37)\n"
     ]
    }
   ],
   "source": [
    "for col in label_cols:\n",
    "    dummies = pd.get_dummies(train[col], prefix=col, drop_first=True)\n",
    "    train = pd.concat([train, dummies], axis=1)\n",
    "    train.drop([col], axis=1, inplace=True)\n",
    "\n",
    "print(train.shape)"
   ]
  },
  {
   "cell_type": "code",
   "execution_count": 88,
   "id": "d09ade7e",
   "metadata": {},
   "outputs": [],
   "source": [
    "train['Transported'] = train['Transported'].astype(int)"
   ]
  },
  {
   "cell_type": "code",
   "execution_count": 89,
   "id": "53d297b3",
   "metadata": {},
   "outputs": [
    {
     "data": {
      "text/html": [
       "<div>\n",
       "<style scoped>\n",
       "    .dataframe tbody tr th:only-of-type {\n",
       "        vertical-align: middle;\n",
       "    }\n",
       "\n",
       "    .dataframe tbody tr th {\n",
       "        vertical-align: top;\n",
       "    }\n",
       "\n",
       "    .dataframe thead th {\n",
       "        text-align: right;\n",
       "    }\n",
       "</style>\n",
       "<table border=\"1\" class=\"dataframe\">\n",
       "  <thead>\n",
       "    <tr style=\"text-align: right;\">\n",
       "      <th></th>\n",
       "      <th>CryoSleep</th>\n",
       "      <th>Age</th>\n",
       "      <th>RoomService</th>\n",
       "      <th>FoodCourt</th>\n",
       "      <th>ShoppingMall</th>\n",
       "      <th>Spa</th>\n",
       "      <th>VRDeck</th>\n",
       "      <th>Transported</th>\n",
       "      <th>Total_expences</th>\n",
       "      <th>Expenditure</th>\n",
       "      <th>No_spending</th>\n",
       "      <th>Solo</th>\n",
       "      <th>Cabin_num_group_1</th>\n",
       "      <th>Cabin_num_group_2</th>\n",
       "      <th>Cabin_num_group_3</th>\n",
       "      <th>Family</th>\n",
       "      <th>HomePlanet_1</th>\n",
       "      <th>HomePlanet_2</th>\n",
       "      <th>Destination_1</th>\n",
       "      <th>Destination_2</th>\n",
       "      <th>Age_group_1</th>\n",
       "      <th>Age_group_2</th>\n",
       "      <th>Age_group_3</th>\n",
       "      <th>Cabin_deck_1</th>\n",
       "      <th>Cabin_deck_2</th>\n",
       "      <th>Cabin_deck_3</th>\n",
       "      <th>Cabin_deck_4</th>\n",
       "      <th>Cabin_deck_5</th>\n",
       "      <th>Cabin_deck_6</th>\n",
       "      <th>Group_size_1</th>\n",
       "      <th>Group_size_2</th>\n",
       "      <th>Group_size_3</th>\n",
       "      <th>Group_size_4</th>\n",
       "      <th>Group_size_5</th>\n",
       "      <th>Group_size_6</th>\n",
       "      <th>Group_size_7</th>\n",
       "      <th>Cabin_side_1</th>\n",
       "    </tr>\n",
       "    <tr>\n",
       "      <th>PassengerId</th>\n",
       "      <th></th>\n",
       "      <th></th>\n",
       "      <th></th>\n",
       "      <th></th>\n",
       "      <th></th>\n",
       "      <th></th>\n",
       "      <th></th>\n",
       "      <th></th>\n",
       "      <th></th>\n",
       "      <th></th>\n",
       "      <th></th>\n",
       "      <th></th>\n",
       "      <th></th>\n",
       "      <th></th>\n",
       "      <th></th>\n",
       "      <th></th>\n",
       "      <th></th>\n",
       "      <th></th>\n",
       "      <th></th>\n",
       "      <th></th>\n",
       "      <th></th>\n",
       "      <th></th>\n",
       "      <th></th>\n",
       "      <th></th>\n",
       "      <th></th>\n",
       "      <th></th>\n",
       "      <th></th>\n",
       "      <th></th>\n",
       "      <th></th>\n",
       "      <th></th>\n",
       "      <th></th>\n",
       "      <th></th>\n",
       "      <th></th>\n",
       "      <th></th>\n",
       "      <th></th>\n",
       "      <th></th>\n",
       "      <th></th>\n",
       "    </tr>\n",
       "  </thead>\n",
       "  <tbody>\n",
       "    <tr>\n",
       "      <th>0001_01</th>\n",
       "      <td>0</td>\n",
       "      <td>39.0</td>\n",
       "      <td>0.0</td>\n",
       "      <td>0.0</td>\n",
       "      <td>0.0</td>\n",
       "      <td>0.0</td>\n",
       "      <td>0.0</td>\n",
       "      <td>0</td>\n",
       "      <td>0.0</td>\n",
       "      <td>0.0</td>\n",
       "      <td>1</td>\n",
       "      <td>1</td>\n",
       "      <td>1</td>\n",
       "      <td>0</td>\n",
       "      <td>0</td>\n",
       "      <td>0.0</td>\n",
       "      <td>1</td>\n",
       "      <td>0</td>\n",
       "      <td>0</td>\n",
       "      <td>1</td>\n",
       "      <td>0</td>\n",
       "      <td>1</td>\n",
       "      <td>0</td>\n",
       "      <td>1</td>\n",
       "      <td>0</td>\n",
       "      <td>0</td>\n",
       "      <td>0</td>\n",
       "      <td>0</td>\n",
       "      <td>0</td>\n",
       "      <td>0</td>\n",
       "      <td>0</td>\n",
       "      <td>0</td>\n",
       "      <td>0</td>\n",
       "      <td>0</td>\n",
       "      <td>0</td>\n",
       "      <td>0</td>\n",
       "      <td>0</td>\n",
       "    </tr>\n",
       "    <tr>\n",
       "      <th>0002_01</th>\n",
       "      <td>0</td>\n",
       "      <td>24.0</td>\n",
       "      <td>109.0</td>\n",
       "      <td>9.0</td>\n",
       "      <td>25.0</td>\n",
       "      <td>549.0</td>\n",
       "      <td>44.0</td>\n",
       "      <td>1</td>\n",
       "      <td>736.0</td>\n",
       "      <td>736.0</td>\n",
       "      <td>0</td>\n",
       "      <td>1</td>\n",
       "      <td>1</td>\n",
       "      <td>0</td>\n",
       "      <td>0</td>\n",
       "      <td>1.0</td>\n",
       "      <td>0</td>\n",
       "      <td>0</td>\n",
       "      <td>0</td>\n",
       "      <td>1</td>\n",
       "      <td>1</td>\n",
       "      <td>0</td>\n",
       "      <td>0</td>\n",
       "      <td>0</td>\n",
       "      <td>0</td>\n",
       "      <td>0</td>\n",
       "      <td>0</td>\n",
       "      <td>1</td>\n",
       "      <td>0</td>\n",
       "      <td>0</td>\n",
       "      <td>0</td>\n",
       "      <td>0</td>\n",
       "      <td>0</td>\n",
       "      <td>0</td>\n",
       "      <td>0</td>\n",
       "      <td>0</td>\n",
       "      <td>1</td>\n",
       "    </tr>\n",
       "    <tr>\n",
       "      <th>0003_01</th>\n",
       "      <td>0</td>\n",
       "      <td>58.0</td>\n",
       "      <td>43.0</td>\n",
       "      <td>3576.0</td>\n",
       "      <td>0.0</td>\n",
       "      <td>6715.0</td>\n",
       "      <td>49.0</td>\n",
       "      <td>0</td>\n",
       "      <td>10383.0</td>\n",
       "      <td>10383.0</td>\n",
       "      <td>0</td>\n",
       "      <td>1</td>\n",
       "      <td>1</td>\n",
       "      <td>0</td>\n",
       "      <td>0</td>\n",
       "      <td>1.0</td>\n",
       "      <td>1</td>\n",
       "      <td>0</td>\n",
       "      <td>0</td>\n",
       "      <td>1</td>\n",
       "      <td>0</td>\n",
       "      <td>0</td>\n",
       "      <td>1</td>\n",
       "      <td>0</td>\n",
       "      <td>0</td>\n",
       "      <td>0</td>\n",
       "      <td>0</td>\n",
       "      <td>0</td>\n",
       "      <td>0</td>\n",
       "      <td>0</td>\n",
       "      <td>0</td>\n",
       "      <td>0</td>\n",
       "      <td>0</td>\n",
       "      <td>0</td>\n",
       "      <td>0</td>\n",
       "      <td>0</td>\n",
       "      <td>1</td>\n",
       "    </tr>\n",
       "  </tbody>\n",
       "</table>\n",
       "</div>"
      ],
      "text/plain": [
       "             CryoSleep   Age  RoomService  FoodCourt  ShoppingMall     Spa  \\\n",
       "PassengerId                                                                  \n",
       "0001_01              0  39.0          0.0        0.0           0.0     0.0   \n",
       "0002_01              0  24.0        109.0        9.0          25.0   549.0   \n",
       "0003_01              0  58.0         43.0     3576.0           0.0  6715.0   \n",
       "\n",
       "             VRDeck  Transported  Total_expences  Expenditure  No_spending  \\\n",
       "PassengerId                                                                  \n",
       "0001_01         0.0            0             0.0          0.0            1   \n",
       "0002_01        44.0            1           736.0        736.0            0   \n",
       "0003_01        49.0            0         10383.0      10383.0            0   \n",
       "\n",
       "             Solo  Cabin_num_group_1  Cabin_num_group_2  Cabin_num_group_3  \\\n",
       "PassengerId                                                                  \n",
       "0001_01         1                  1                  0                  0   \n",
       "0002_01         1                  1                  0                  0   \n",
       "0003_01         1                  1                  0                  0   \n",
       "\n",
       "             Family  HomePlanet_1  HomePlanet_2  Destination_1  Destination_2  \\\n",
       "PassengerId                                                                     \n",
       "0001_01         0.0             1             0              0              1   \n",
       "0002_01         1.0             0             0              0              1   \n",
       "0003_01         1.0             1             0              0              1   \n",
       "\n",
       "             Age_group_1  Age_group_2  Age_group_3  Cabin_deck_1  \\\n",
       "PassengerId                                                        \n",
       "0001_01                0            1            0             1   \n",
       "0002_01                1            0            0             0   \n",
       "0003_01                0            0            1             0   \n",
       "\n",
       "             Cabin_deck_2  Cabin_deck_3  Cabin_deck_4  Cabin_deck_5  \\\n",
       "PassengerId                                                           \n",
       "0001_01                 0             0             0             0   \n",
       "0002_01                 0             0             0             1   \n",
       "0003_01                 0             0             0             0   \n",
       "\n",
       "             Cabin_deck_6  Group_size_1  Group_size_2  Group_size_3  \\\n",
       "PassengerId                                                           \n",
       "0001_01                 0             0             0             0   \n",
       "0002_01                 0             0             0             0   \n",
       "0003_01                 0             0             0             0   \n",
       "\n",
       "             Group_size_4  Group_size_5  Group_size_6  Group_size_7  \\\n",
       "PassengerId                                                           \n",
       "0001_01                 0             0             0             0   \n",
       "0002_01                 0             0             0             0   \n",
       "0003_01                 0             0             0             0   \n",
       "\n",
       "             Cabin_side_1  \n",
       "PassengerId                \n",
       "0001_01                 0  \n",
       "0002_01                 1  \n",
       "0003_01                 1  "
      ]
     },
     "execution_count": 89,
     "metadata": {},
     "output_type": "execute_result"
    }
   ],
   "source": [
    "pd.set_option('display.max_columns', None)\n",
    "train.head(3)"
   ]
  },
  {
   "cell_type": "code",
   "execution_count": 90,
   "id": "0cc87e60",
   "metadata": {},
   "outputs": [
    {
     "data": {
      "text/plain": [
       "(8693, 37)"
      ]
     },
     "execution_count": 90,
     "metadata": {},
     "output_type": "execute_result"
    }
   ],
   "source": [
    "train.shape"
   ]
  },
  {
   "cell_type": "markdown",
   "id": "f231afa0",
   "metadata": {},
   "source": [
    "# SAVE FINAL .CSV "
   ]
  },
  {
   "cell_type": "code",
   "execution_count": 91,
   "id": "2dc4e691",
   "metadata": {},
   "outputs": [],
   "source": [
    "train.to_csv('dataset.csv', index=True)"
   ]
  },
  {
   "cell_type": "code",
   "execution_count": 92,
   "id": "2f680daf",
   "metadata": {},
   "outputs": [],
   "source": [
    "dataset = pd.read_csv('dataset.csv')"
   ]
  },
  {
   "cell_type": "code",
   "execution_count": 93,
   "id": "778be4ad",
   "metadata": {},
   "outputs": [
    {
     "data": {
      "text/html": [
       "<div>\n",
       "<style scoped>\n",
       "    .dataframe tbody tr th:only-of-type {\n",
       "        vertical-align: middle;\n",
       "    }\n",
       "\n",
       "    .dataframe tbody tr th {\n",
       "        vertical-align: top;\n",
       "    }\n",
       "\n",
       "    .dataframe thead th {\n",
       "        text-align: right;\n",
       "    }\n",
       "</style>\n",
       "<table border=\"1\" class=\"dataframe\">\n",
       "  <thead>\n",
       "    <tr style=\"text-align: right;\">\n",
       "      <th></th>\n",
       "      <th>PassengerId</th>\n",
       "      <th>CryoSleep</th>\n",
       "      <th>Age</th>\n",
       "      <th>RoomService</th>\n",
       "      <th>FoodCourt</th>\n",
       "      <th>ShoppingMall</th>\n",
       "      <th>Spa</th>\n",
       "      <th>VRDeck</th>\n",
       "      <th>Transported</th>\n",
       "      <th>Total_expences</th>\n",
       "      <th>Expenditure</th>\n",
       "      <th>No_spending</th>\n",
       "      <th>Solo</th>\n",
       "      <th>Cabin_num_group_1</th>\n",
       "      <th>Cabin_num_group_2</th>\n",
       "      <th>Cabin_num_group_3</th>\n",
       "      <th>Family</th>\n",
       "      <th>HomePlanet_1</th>\n",
       "      <th>HomePlanet_2</th>\n",
       "      <th>Destination_1</th>\n",
       "      <th>Destination_2</th>\n",
       "      <th>Age_group_1</th>\n",
       "      <th>Age_group_2</th>\n",
       "      <th>Age_group_3</th>\n",
       "      <th>Cabin_deck_1</th>\n",
       "      <th>Cabin_deck_2</th>\n",
       "      <th>Cabin_deck_3</th>\n",
       "      <th>Cabin_deck_4</th>\n",
       "      <th>Cabin_deck_5</th>\n",
       "      <th>Cabin_deck_6</th>\n",
       "      <th>Group_size_1</th>\n",
       "      <th>Group_size_2</th>\n",
       "      <th>Group_size_3</th>\n",
       "      <th>Group_size_4</th>\n",
       "      <th>Group_size_5</th>\n",
       "      <th>Group_size_6</th>\n",
       "      <th>Group_size_7</th>\n",
       "      <th>Cabin_side_1</th>\n",
       "    </tr>\n",
       "  </thead>\n",
       "  <tbody>\n",
       "    <tr>\n",
       "      <th>0</th>\n",
       "      <td>0001_01</td>\n",
       "      <td>0</td>\n",
       "      <td>39.0</td>\n",
       "      <td>0.0</td>\n",
       "      <td>0.0</td>\n",
       "      <td>0.0</td>\n",
       "      <td>0.0</td>\n",
       "      <td>0.0</td>\n",
       "      <td>0</td>\n",
       "      <td>0.0</td>\n",
       "      <td>0.0</td>\n",
       "      <td>1</td>\n",
       "      <td>1</td>\n",
       "      <td>1</td>\n",
       "      <td>0</td>\n",
       "      <td>0</td>\n",
       "      <td>0.0</td>\n",
       "      <td>1</td>\n",
       "      <td>0</td>\n",
       "      <td>0</td>\n",
       "      <td>1</td>\n",
       "      <td>0</td>\n",
       "      <td>1</td>\n",
       "      <td>0</td>\n",
       "      <td>1</td>\n",
       "      <td>0</td>\n",
       "      <td>0</td>\n",
       "      <td>0</td>\n",
       "      <td>0</td>\n",
       "      <td>0</td>\n",
       "      <td>0</td>\n",
       "      <td>0</td>\n",
       "      <td>0</td>\n",
       "      <td>0</td>\n",
       "      <td>0</td>\n",
       "      <td>0</td>\n",
       "      <td>0</td>\n",
       "      <td>0</td>\n",
       "    </tr>\n",
       "    <tr>\n",
       "      <th>1</th>\n",
       "      <td>0002_01</td>\n",
       "      <td>0</td>\n",
       "      <td>24.0</td>\n",
       "      <td>109.0</td>\n",
       "      <td>9.0</td>\n",
       "      <td>25.0</td>\n",
       "      <td>549.0</td>\n",
       "      <td>44.0</td>\n",
       "      <td>1</td>\n",
       "      <td>736.0</td>\n",
       "      <td>736.0</td>\n",
       "      <td>0</td>\n",
       "      <td>1</td>\n",
       "      <td>1</td>\n",
       "      <td>0</td>\n",
       "      <td>0</td>\n",
       "      <td>1.0</td>\n",
       "      <td>0</td>\n",
       "      <td>0</td>\n",
       "      <td>0</td>\n",
       "      <td>1</td>\n",
       "      <td>1</td>\n",
       "      <td>0</td>\n",
       "      <td>0</td>\n",
       "      <td>0</td>\n",
       "      <td>0</td>\n",
       "      <td>0</td>\n",
       "      <td>0</td>\n",
       "      <td>1</td>\n",
       "      <td>0</td>\n",
       "      <td>0</td>\n",
       "      <td>0</td>\n",
       "      <td>0</td>\n",
       "      <td>0</td>\n",
       "      <td>0</td>\n",
       "      <td>0</td>\n",
       "      <td>0</td>\n",
       "      <td>1</td>\n",
       "    </tr>\n",
       "    <tr>\n",
       "      <th>2</th>\n",
       "      <td>0003_01</td>\n",
       "      <td>0</td>\n",
       "      <td>58.0</td>\n",
       "      <td>43.0</td>\n",
       "      <td>3576.0</td>\n",
       "      <td>0.0</td>\n",
       "      <td>6715.0</td>\n",
       "      <td>49.0</td>\n",
       "      <td>0</td>\n",
       "      <td>10383.0</td>\n",
       "      <td>10383.0</td>\n",
       "      <td>0</td>\n",
       "      <td>1</td>\n",
       "      <td>1</td>\n",
       "      <td>0</td>\n",
       "      <td>0</td>\n",
       "      <td>1.0</td>\n",
       "      <td>1</td>\n",
       "      <td>0</td>\n",
       "      <td>0</td>\n",
       "      <td>1</td>\n",
       "      <td>0</td>\n",
       "      <td>0</td>\n",
       "      <td>1</td>\n",
       "      <td>0</td>\n",
       "      <td>0</td>\n",
       "      <td>0</td>\n",
       "      <td>0</td>\n",
       "      <td>0</td>\n",
       "      <td>0</td>\n",
       "      <td>0</td>\n",
       "      <td>0</td>\n",
       "      <td>0</td>\n",
       "      <td>0</td>\n",
       "      <td>0</td>\n",
       "      <td>0</td>\n",
       "      <td>0</td>\n",
       "      <td>1</td>\n",
       "    </tr>\n",
       "    <tr>\n",
       "      <th>3</th>\n",
       "      <td>0003_02</td>\n",
       "      <td>0</td>\n",
       "      <td>33.0</td>\n",
       "      <td>0.0</td>\n",
       "      <td>1283.0</td>\n",
       "      <td>371.0</td>\n",
       "      <td>3329.0</td>\n",
       "      <td>193.0</td>\n",
       "      <td>0</td>\n",
       "      <td>5176.0</td>\n",
       "      <td>5176.0</td>\n",
       "      <td>0</td>\n",
       "      <td>0</td>\n",
       "      <td>1</td>\n",
       "      <td>0</td>\n",
       "      <td>0</td>\n",
       "      <td>1.0</td>\n",
       "      <td>1</td>\n",
       "      <td>0</td>\n",
       "      <td>0</td>\n",
       "      <td>1</td>\n",
       "      <td>1</td>\n",
       "      <td>0</td>\n",
       "      <td>0</td>\n",
       "      <td>0</td>\n",
       "      <td>0</td>\n",
       "      <td>0</td>\n",
       "      <td>0</td>\n",
       "      <td>0</td>\n",
       "      <td>0</td>\n",
       "      <td>1</td>\n",
       "      <td>0</td>\n",
       "      <td>0</td>\n",
       "      <td>0</td>\n",
       "      <td>0</td>\n",
       "      <td>0</td>\n",
       "      <td>0</td>\n",
       "      <td>1</td>\n",
       "    </tr>\n",
       "    <tr>\n",
       "      <th>4</th>\n",
       "      <td>0004_01</td>\n",
       "      <td>0</td>\n",
       "      <td>16.0</td>\n",
       "      <td>303.0</td>\n",
       "      <td>70.0</td>\n",
       "      <td>151.0</td>\n",
       "      <td>565.0</td>\n",
       "      <td>2.0</td>\n",
       "      <td>1</td>\n",
       "      <td>1091.0</td>\n",
       "      <td>1091.0</td>\n",
       "      <td>0</td>\n",
       "      <td>1</td>\n",
       "      <td>1</td>\n",
       "      <td>0</td>\n",
       "      <td>0</td>\n",
       "      <td>1.0</td>\n",
       "      <td>0</td>\n",
       "      <td>0</td>\n",
       "      <td>0</td>\n",
       "      <td>1</td>\n",
       "      <td>0</td>\n",
       "      <td>0</td>\n",
       "      <td>0</td>\n",
       "      <td>0</td>\n",
       "      <td>0</td>\n",
       "      <td>0</td>\n",
       "      <td>0</td>\n",
       "      <td>1</td>\n",
       "      <td>0</td>\n",
       "      <td>0</td>\n",
       "      <td>0</td>\n",
       "      <td>0</td>\n",
       "      <td>0</td>\n",
       "      <td>0</td>\n",
       "      <td>0</td>\n",
       "      <td>0</td>\n",
       "      <td>1</td>\n",
       "    </tr>\n",
       "    <tr>\n",
       "      <th>...</th>\n",
       "      <td>...</td>\n",
       "      <td>...</td>\n",
       "      <td>...</td>\n",
       "      <td>...</td>\n",
       "      <td>...</td>\n",
       "      <td>...</td>\n",
       "      <td>...</td>\n",
       "      <td>...</td>\n",
       "      <td>...</td>\n",
       "      <td>...</td>\n",
       "      <td>...</td>\n",
       "      <td>...</td>\n",
       "      <td>...</td>\n",
       "      <td>...</td>\n",
       "      <td>...</td>\n",
       "      <td>...</td>\n",
       "      <td>...</td>\n",
       "      <td>...</td>\n",
       "      <td>...</td>\n",
       "      <td>...</td>\n",
       "      <td>...</td>\n",
       "      <td>...</td>\n",
       "      <td>...</td>\n",
       "      <td>...</td>\n",
       "      <td>...</td>\n",
       "      <td>...</td>\n",
       "      <td>...</td>\n",
       "      <td>...</td>\n",
       "      <td>...</td>\n",
       "      <td>...</td>\n",
       "      <td>...</td>\n",
       "      <td>...</td>\n",
       "      <td>...</td>\n",
       "      <td>...</td>\n",
       "      <td>...</td>\n",
       "      <td>...</td>\n",
       "      <td>...</td>\n",
       "      <td>...</td>\n",
       "    </tr>\n",
       "    <tr>\n",
       "      <th>8688</th>\n",
       "      <td>9276_01</td>\n",
       "      <td>0</td>\n",
       "      <td>41.0</td>\n",
       "      <td>0.0</td>\n",
       "      <td>6819.0</td>\n",
       "      <td>0.0</td>\n",
       "      <td>1643.0</td>\n",
       "      <td>74.0</td>\n",
       "      <td>0</td>\n",
       "      <td>8536.0</td>\n",
       "      <td>8536.0</td>\n",
       "      <td>0</td>\n",
       "      <td>1</td>\n",
       "      <td>1</td>\n",
       "      <td>0</td>\n",
       "      <td>0</td>\n",
       "      <td>1.0</td>\n",
       "      <td>1</td>\n",
       "      <td>0</td>\n",
       "      <td>0</td>\n",
       "      <td>0</td>\n",
       "      <td>0</td>\n",
       "      <td>1</td>\n",
       "      <td>0</td>\n",
       "      <td>0</td>\n",
       "      <td>0</td>\n",
       "      <td>0</td>\n",
       "      <td>0</td>\n",
       "      <td>0</td>\n",
       "      <td>0</td>\n",
       "      <td>0</td>\n",
       "      <td>0</td>\n",
       "      <td>0</td>\n",
       "      <td>0</td>\n",
       "      <td>0</td>\n",
       "      <td>0</td>\n",
       "      <td>0</td>\n",
       "      <td>0</td>\n",
       "    </tr>\n",
       "    <tr>\n",
       "      <th>8689</th>\n",
       "      <td>9278_01</td>\n",
       "      <td>1</td>\n",
       "      <td>18.0</td>\n",
       "      <td>0.0</td>\n",
       "      <td>0.0</td>\n",
       "      <td>0.0</td>\n",
       "      <td>0.0</td>\n",
       "      <td>0.0</td>\n",
       "      <td>0</td>\n",
       "      <td>0.0</td>\n",
       "      <td>0.0</td>\n",
       "      <td>1</td>\n",
       "      <td>1</td>\n",
       "      <td>0</td>\n",
       "      <td>0</td>\n",
       "      <td>0</td>\n",
       "      <td>1.0</td>\n",
       "      <td>0</td>\n",
       "      <td>0</td>\n",
       "      <td>1</td>\n",
       "      <td>0</td>\n",
       "      <td>0</td>\n",
       "      <td>0</td>\n",
       "      <td>0</td>\n",
       "      <td>0</td>\n",
       "      <td>0</td>\n",
       "      <td>0</td>\n",
       "      <td>0</td>\n",
       "      <td>0</td>\n",
       "      <td>1</td>\n",
       "      <td>0</td>\n",
       "      <td>0</td>\n",
       "      <td>0</td>\n",
       "      <td>0</td>\n",
       "      <td>0</td>\n",
       "      <td>0</td>\n",
       "      <td>0</td>\n",
       "      <td>1</td>\n",
       "    </tr>\n",
       "    <tr>\n",
       "      <th>8690</th>\n",
       "      <td>9279_01</td>\n",
       "      <td>0</td>\n",
       "      <td>26.0</td>\n",
       "      <td>0.0</td>\n",
       "      <td>0.0</td>\n",
       "      <td>1872.0</td>\n",
       "      <td>1.0</td>\n",
       "      <td>0.0</td>\n",
       "      <td>1</td>\n",
       "      <td>1873.0</td>\n",
       "      <td>1873.0</td>\n",
       "      <td>0</td>\n",
       "      <td>1</td>\n",
       "      <td>0</td>\n",
       "      <td>0</td>\n",
       "      <td>0</td>\n",
       "      <td>1.0</td>\n",
       "      <td>0</td>\n",
       "      <td>0</td>\n",
       "      <td>0</td>\n",
       "      <td>1</td>\n",
       "      <td>1</td>\n",
       "      <td>0</td>\n",
       "      <td>0</td>\n",
       "      <td>0</td>\n",
       "      <td>0</td>\n",
       "      <td>0</td>\n",
       "      <td>0</td>\n",
       "      <td>0</td>\n",
       "      <td>1</td>\n",
       "      <td>0</td>\n",
       "      <td>0</td>\n",
       "      <td>0</td>\n",
       "      <td>0</td>\n",
       "      <td>0</td>\n",
       "      <td>0</td>\n",
       "      <td>0</td>\n",
       "      <td>1</td>\n",
       "    </tr>\n",
       "    <tr>\n",
       "      <th>8691</th>\n",
       "      <td>9280_01</td>\n",
       "      <td>0</td>\n",
       "      <td>32.0</td>\n",
       "      <td>0.0</td>\n",
       "      <td>1049.0</td>\n",
       "      <td>0.0</td>\n",
       "      <td>353.0</td>\n",
       "      <td>3235.0</td>\n",
       "      <td>0</td>\n",
       "      <td>4637.0</td>\n",
       "      <td>4637.0</td>\n",
       "      <td>0</td>\n",
       "      <td>1</td>\n",
       "      <td>0</td>\n",
       "      <td>1</td>\n",
       "      <td>0</td>\n",
       "      <td>1.0</td>\n",
       "      <td>1</td>\n",
       "      <td>0</td>\n",
       "      <td>0</td>\n",
       "      <td>0</td>\n",
       "      <td>1</td>\n",
       "      <td>0</td>\n",
       "      <td>0</td>\n",
       "      <td>0</td>\n",
       "      <td>0</td>\n",
       "      <td>0</td>\n",
       "      <td>1</td>\n",
       "      <td>0</td>\n",
       "      <td>0</td>\n",
       "      <td>0</td>\n",
       "      <td>0</td>\n",
       "      <td>0</td>\n",
       "      <td>0</td>\n",
       "      <td>0</td>\n",
       "      <td>0</td>\n",
       "      <td>0</td>\n",
       "      <td>1</td>\n",
       "    </tr>\n",
       "    <tr>\n",
       "      <th>8692</th>\n",
       "      <td>9280_02</td>\n",
       "      <td>0</td>\n",
       "      <td>44.0</td>\n",
       "      <td>126.0</td>\n",
       "      <td>4688.0</td>\n",
       "      <td>0.0</td>\n",
       "      <td>0.0</td>\n",
       "      <td>12.0</td>\n",
       "      <td>1</td>\n",
       "      <td>4826.0</td>\n",
       "      <td>4826.0</td>\n",
       "      <td>0</td>\n",
       "      <td>0</td>\n",
       "      <td>0</td>\n",
       "      <td>1</td>\n",
       "      <td>0</td>\n",
       "      <td>1.0</td>\n",
       "      <td>1</td>\n",
       "      <td>0</td>\n",
       "      <td>0</td>\n",
       "      <td>1</td>\n",
       "      <td>0</td>\n",
       "      <td>1</td>\n",
       "      <td>0</td>\n",
       "      <td>0</td>\n",
       "      <td>0</td>\n",
       "      <td>0</td>\n",
       "      <td>1</td>\n",
       "      <td>0</td>\n",
       "      <td>0</td>\n",
       "      <td>1</td>\n",
       "      <td>0</td>\n",
       "      <td>0</td>\n",
       "      <td>0</td>\n",
       "      <td>0</td>\n",
       "      <td>0</td>\n",
       "      <td>0</td>\n",
       "      <td>1</td>\n",
       "    </tr>\n",
       "  </tbody>\n",
       "</table>\n",
       "<p>8693 rows × 38 columns</p>\n",
       "</div>"
      ],
      "text/plain": [
       "     PassengerId  CryoSleep   Age  RoomService  FoodCourt  ShoppingMall  \\\n",
       "0        0001_01          0  39.0          0.0        0.0           0.0   \n",
       "1        0002_01          0  24.0        109.0        9.0          25.0   \n",
       "2        0003_01          0  58.0         43.0     3576.0           0.0   \n",
       "3        0003_02          0  33.0          0.0     1283.0         371.0   \n",
       "4        0004_01          0  16.0        303.0       70.0         151.0   \n",
       "...          ...        ...   ...          ...        ...           ...   \n",
       "8688     9276_01          0  41.0          0.0     6819.0           0.0   \n",
       "8689     9278_01          1  18.0          0.0        0.0           0.0   \n",
       "8690     9279_01          0  26.0          0.0        0.0        1872.0   \n",
       "8691     9280_01          0  32.0          0.0     1049.0           0.0   \n",
       "8692     9280_02          0  44.0        126.0     4688.0           0.0   \n",
       "\n",
       "         Spa  VRDeck  Transported  Total_expences  Expenditure  No_spending  \\\n",
       "0        0.0     0.0            0             0.0          0.0            1   \n",
       "1      549.0    44.0            1           736.0        736.0            0   \n",
       "2     6715.0    49.0            0         10383.0      10383.0            0   \n",
       "3     3329.0   193.0            0          5176.0       5176.0            0   \n",
       "4      565.0     2.0            1          1091.0       1091.0            0   \n",
       "...      ...     ...          ...             ...          ...          ...   \n",
       "8688  1643.0    74.0            0          8536.0       8536.0            0   \n",
       "8689     0.0     0.0            0             0.0          0.0            1   \n",
       "8690     1.0     0.0            1          1873.0       1873.0            0   \n",
       "8691   353.0  3235.0            0          4637.0       4637.0            0   \n",
       "8692     0.0    12.0            1          4826.0       4826.0            0   \n",
       "\n",
       "      Solo  Cabin_num_group_1  Cabin_num_group_2  Cabin_num_group_3  Family  \\\n",
       "0        1                  1                  0                  0     0.0   \n",
       "1        1                  1                  0                  0     1.0   \n",
       "2        1                  1                  0                  0     1.0   \n",
       "3        0                  1                  0                  0     1.0   \n",
       "4        1                  1                  0                  0     1.0   \n",
       "...    ...                ...                ...                ...     ...   \n",
       "8688     1                  1                  0                  0     1.0   \n",
       "8689     1                  0                  0                  0     1.0   \n",
       "8690     1                  0                  0                  0     1.0   \n",
       "8691     1                  0                  1                  0     1.0   \n",
       "8692     0                  0                  1                  0     1.0   \n",
       "\n",
       "      HomePlanet_1  HomePlanet_2  Destination_1  Destination_2  Age_group_1  \\\n",
       "0                1             0              0              1            0   \n",
       "1                0             0              0              1            1   \n",
       "2                1             0              0              1            0   \n",
       "3                1             0              0              1            1   \n",
       "4                0             0              0              1            0   \n",
       "...            ...           ...            ...            ...          ...   \n",
       "8688             1             0              0              0            0   \n",
       "8689             0             0              1              0            0   \n",
       "8690             0             0              0              1            1   \n",
       "8691             1             0              0              0            1   \n",
       "8692             1             0              0              1            0   \n",
       "\n",
       "      Age_group_2  Age_group_3  Cabin_deck_1  Cabin_deck_2  Cabin_deck_3  \\\n",
       "0               1            0             1             0             0   \n",
       "1               0            0             0             0             0   \n",
       "2               0            1             0             0             0   \n",
       "3               0            0             0             0             0   \n",
       "4               0            0             0             0             0   \n",
       "...           ...          ...           ...           ...           ...   \n",
       "8688            1            0             0             0             0   \n",
       "8689            0            0             0             0             0   \n",
       "8690            0            0             0             0             0   \n",
       "8691            0            0             0             0             0   \n",
       "8692            1            0             0             0             0   \n",
       "\n",
       "      Cabin_deck_4  Cabin_deck_5  Cabin_deck_6  Group_size_1  Group_size_2  \\\n",
       "0                0             0             0             0             0   \n",
       "1                0             1             0             0             0   \n",
       "2                0             0             0             0             0   \n",
       "3                0             0             0             1             0   \n",
       "4                0             1             0             0             0   \n",
       "...            ...           ...           ...           ...           ...   \n",
       "8688             0             0             0             0             0   \n",
       "8689             0             0             1             0             0   \n",
       "8690             0             0             1             0             0   \n",
       "8691             1             0             0             0             0   \n",
       "8692             1             0             0             1             0   \n",
       "\n",
       "      Group_size_3  Group_size_4  Group_size_5  Group_size_6  Group_size_7  \\\n",
       "0                0             0             0             0             0   \n",
       "1                0             0             0             0             0   \n",
       "2                0             0             0             0             0   \n",
       "3                0             0             0             0             0   \n",
       "4                0             0             0             0             0   \n",
       "...            ...           ...           ...           ...           ...   \n",
       "8688             0             0             0             0             0   \n",
       "8689             0             0             0             0             0   \n",
       "8690             0             0             0             0             0   \n",
       "8691             0             0             0             0             0   \n",
       "8692             0             0             0             0             0   \n",
       "\n",
       "      Cabin_side_1  \n",
       "0                0  \n",
       "1                1  \n",
       "2                1  \n",
       "3                1  \n",
       "4                1  \n",
       "...            ...  \n",
       "8688             0  \n",
       "8689             1  \n",
       "8690             1  \n",
       "8691             1  \n",
       "8692             1  \n",
       "\n",
       "[8693 rows x 38 columns]"
      ]
     },
     "execution_count": 93,
     "metadata": {},
     "output_type": "execute_result"
    }
   ],
   "source": [
    "dataset"
   ]
  },
  {
   "cell_type": "markdown",
   "id": "4eaf9cbf",
   "metadata": {},
   "source": [
    "# Run a quick Logistic Regression"
   ]
  },
  {
   "cell_type": "code",
   "execution_count": 94,
   "id": "f57dc476",
   "metadata": {},
   "outputs": [],
   "source": [
    "X = train.drop(['Transported'],axis=1)\n",
    "y = train['Transported']"
   ]
  },
  {
   "cell_type": "code",
   "execution_count": 95,
   "id": "5aa59f68",
   "metadata": {},
   "outputs": [],
   "source": [
    "from sklearn.model_selection import train_test_split\n",
    "\n",
    "# Train-validation split\n",
    "X_train, X_valid, y_train, y_valid = train_test_split(X,y,stratify=y,\n",
    "                                                      train_size=0.8,test_size=0.2,random_state=0)"
   ]
  },
  {
   "cell_type": "code",
   "execution_count": 96,
   "id": "65379253",
   "metadata": {},
   "outputs": [],
   "source": [
    "from sklearn.preprocessing import StandardScaler\n",
    "\n",
    "scaler = StandardScaler()\n",
    "X_train = scaler.fit_transform(X_train)\n",
    "X_valid = scaler.transform(X_valid)"
   ]
  },
  {
   "cell_type": "code",
   "execution_count": 97,
   "id": "aff6460e",
   "metadata": {},
   "outputs": [
    {
     "data": {
      "text/plain": [
       "0.7906843013225991"
      ]
     },
     "execution_count": 97,
     "metadata": {},
     "output_type": "execute_result"
    }
   ],
   "source": [
    "from sklearn.linear_model import LogisticRegression\n",
    "from sklearn.metrics import accuracy_score\n",
    "\n",
    "model = LogisticRegression()\n",
    "model.fit(X_train, y_train)\n",
    "\n",
    "y_pred = model.predict(X_valid)\n",
    "accuracy_score(y_valid, y_pred)"
   ]
  }
 ],
 "metadata": {
  "kernelspec": {
   "display_name": "Python 3 (ipykernel)",
   "language": "python",
   "name": "python3"
  },
  "language_info": {
   "codemirror_mode": {
    "name": "ipython",
    "version": 3
   },
   "file_extension": ".py",
   "mimetype": "text/x-python",
   "name": "python",
   "nbconvert_exporter": "python",
   "pygments_lexer": "ipython3",
   "version": "3.8.10"
  }
 },
 "nbformat": 4,
 "nbformat_minor": 5
}
